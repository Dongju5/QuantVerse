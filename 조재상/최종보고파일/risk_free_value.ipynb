{
 "cells": [
  {
   "cell_type": "code",
   "execution_count": 1,
   "id": "78ef7752-ae93-48ed-b1af-ef02aabf9496",
   "metadata": {},
   "outputs": [],
   "source": [
    "import requests\n",
    "import pandas as pd\n",
    "from datetime import datetime, timedelta"
   ]
  },
  {
   "cell_type": "code",
   "execution_count": 2,
   "id": "77eb96bc-77df-4e95-8e8e-6699152e8810",
   "metadata": {},
   "outputs": [],
   "source": [
    "\n",
    "# API URL\n",
    "url = \"http://data-dbg.krx.co.kr/svc/apis/bon/kts_bydd_trd\"\n",
    "\n",
    "# 인증키 설정\n",
    "auth_key = \"956087495A1D4769A88B0F3411D0890EF02445EB\"  # 제공받은 인증키로 대체하세요\n",
    "\n",
    "# 헤더작성\n",
    "headers = {\n",
    "    \"AUTH_KEY\": auth_key,\n",
    "}\n",
    "\n",
    "bas_dd = (datetime.today() - timedelta(days=15)).strftime('%Y%m%d')\n",
    "\n",
    "params = {\n",
    "        \"basDd\": bas_dd  # 조회 기준일\n",
    "    }\n",
    "\n",
    "response = requests.get(url, headers=headers, params=params)\n",
    "\n",
    "if response.status_code == 200:\n",
    "    data = response.json()\n",
    "    data = pd.DataFrame(data['OutBlock_1'])\n",
    "else:\n",
    "    print(f\"Error {response.status_code} on {bas_dd}: {response.text}\")"
   ]
  },
  {
   "cell_type": "code",
   "execution_count": 5,
   "id": "2ccb2d9f-d19f-4dbd-9d1b-122384f6ccca",
   "metadata": {},
   "outputs": [],
   "source": [
    "# 지표이면서 3년 이내 만기를 가진 국채의 금리를 구하자. => 무위험이자율로 사용\n",
    "\n",
    "rf_data = data[(data['GOVBND_ISU_TP_NM'] == '지표') & (data['BND_EXP_TP_NM'] == '3')]\n",
    "\n",
    "# 데이터 타입 변경 -> float64\n",
    "rf = rf_data['CLSPRC_YD'].astype('float64')"
   ]
  },
  {
   "cell_type": "code",
   "execution_count": 7,
   "id": "f790fb35-c0d6-4936-abd6-51e030d442bf",
   "metadata": {},
   "outputs": [
    {
     "data": {
      "text/plain": [
       "1    2.921\n",
       "Name: CLSPRC_YD, dtype: float64"
      ]
     },
     "execution_count": 7,
     "metadata": {},
     "output_type": "execute_result"
    }
   ],
   "source": [
    "# rf.csv파일로 무위험 이자율 값 저장.\n",
    "\n",
    "rf.to_csv(\"rf.csv\", index=False, encoding=\"utf-8-sig\")\n",
    "rf"
   ]
  },
  {
   "cell_type": "code",
   "execution_count": null,
   "id": "9801a0d8-be5b-40fb-b7d8-cece1305c656",
   "metadata": {},
   "outputs": [],
   "source": []
  }
 ],
 "metadata": {
  "kernelspec": {
   "display_name": "Python 3 (ipykernel)",
   "language": "python",
   "name": "python3"
  },
  "language_info": {
   "codemirror_mode": {
    "name": "ipython",
    "version": 3
   },
   "file_extension": ".py",
   "mimetype": "text/x-python",
   "name": "python",
   "nbconvert_exporter": "python",
   "pygments_lexer": "ipython3",
   "version": "3.12.7"
  }
 },
 "nbformat": 4,
 "nbformat_minor": 5
}
