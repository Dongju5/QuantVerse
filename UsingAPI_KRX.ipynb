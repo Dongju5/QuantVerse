{
 "cells": [
  {
   "cell_type": "markdown",
   "id": "37f98073",
   "metadata": {},
   "source": [
    "# KRX정보시스템 API 활용법\n",
    "API활용하여 데이터 가져오는 방법입니다^^ 제가 API 승인 받아서 키 가져왔습니다. \n",
    "하단에 있는 키값을 활용하여 데이터를 사용하시기 바랍니다.\n",
    "\n",
    "첨부한 자료는 지수데이터값과 유가증권 일일 거래 값에 관련된 명세서입니다.\n",
    "칼럼을 참조하시고 데이터 가져오는데 사용하시면 되겠습니다!\n",
    "\n",
    "하단은 API사용 예시 자료입니다."
   ]
  },
  {
   "cell_type": "code",
   "execution_count": 6,
   "id": "17dd033c",
   "metadata": {
    "scrolled": false
   },
   "outputs": [
    {
     "name": "stdout",
     "output_type": "stream",
     "text": [
      "               IDX_NM CLSPRC_IDX\n",
      "0          코리아 밸류업 지수     863.59\n",
      "1             KRX 300    1540.68\n",
      "2             KTOP 30    9146.66\n",
      "3             KRX 100    5266.51\n",
      "4             KRX 자동차    1929.58\n",
      "5             KRX 반도체    2960.96\n",
      "6            KRX 헬스케어    2937.70\n",
      "7              KRX 은행     609.17\n",
      "8           KRX 에너지화학    3758.99\n",
      "9              KRX 철강    1930.13\n",
      "10           KRX 방송통신     692.21\n",
      "11             KRX 건설     704.20\n",
      "12             KRX 증권     620.69\n",
      "13           KRX 기계장비     726.19\n",
      "14             KRX 보험    1481.44\n",
      "15             KRX 운송     958.75\n",
      "16          KRX 경기소비재    1100.20\n",
      "17          KRX 필수소비재    1309.52\n",
      "18     KRX 미디어&엔터테인먼트    2149.14\n",
      "19           KRX 정보기술    1545.23\n",
      "20           KRX 유틸리티    1134.74\n",
      "21       KRX 300 정보기술    2498.02\n",
      "22         KRX 300 금융     747.15\n",
      "23      KRX 300 자유소비재    1470.89\n",
      "24        KRX 300 산업재     662.69\n",
      "25       KRX 300 헬스케어    2561.59\n",
      "26  KRX 300 커뮤니케이션서비스    1608.10\n",
      "27         KRX 300 소재    2031.71\n",
      "28      KRX 300 필수소비재    1297.30\n"
     ]
    }
   ],
   "source": [
    "import requests\n",
    "import pandas as pd\n",
    "\n",
    "# API URL\n",
    "url = \"http://data-dbg.krx.co.kr/svc/apis/idx/krx_dd_trd\"\n",
    "\n",
    "# 인증키 설정\n",
    "auth_key = \"956087495A1D4769A88B0F3411D0890EF02445EB\"  # 제공받은 인증키로 대체하세요\n",
    "\n",
    "# 헤더작성\n",
    "headers = {\n",
    "    \"AUTH_KEY\": auth_key,\n",
    "\n",
    "}\n",
    "\n",
    "# 요청 파라미터\n",
    "params = {\n",
    "    \"basDd\": \"20230414\"\n",
    "}\n",
    "\n",
    "# API 요청\n",
    "response = requests.get(url, headers=headers, params=params)\n",
    "\n",
    "# 응답 확인하기\n",
    "if response.status_code == 200:\n",
    "    data = response.json()  # JSON 형식으로 변환\n",
    "    df = pd.DataFrame(data['OutBlock_1'])[['IDX_NM', 'CLSPRC_IDX']]\n",
    "    print(df)\n",
    "else:\n",
    "    print(f\"Error {response.status_code}: {response.text}\")\n"
   ]
  },
  {
   "cell_type": "code",
   "execution_count": null,
   "id": "96f1c0b3",
   "metadata": {},
   "outputs": [],
   "source": []
  }
 ],
 "metadata": {
  "kernelspec": {
   "display_name": "Python 3",
   "language": "python",
   "name": "python3"
  },
  "language_info": {
   "codemirror_mode": {
    "name": "ipython",
    "version": 3
   },
   "file_extension": ".py",
   "mimetype": "text/x-python",
   "name": "python",
   "nbconvert_exporter": "python",
   "pygments_lexer": "ipython3",
   "version": "3.8.8"
  }
 },
 "nbformat": 4,
 "nbformat_minor": 5
}
