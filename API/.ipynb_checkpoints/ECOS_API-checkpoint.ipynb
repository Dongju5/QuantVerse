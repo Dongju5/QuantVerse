{
 "cells": [
  {
   "cell_type": "markdown",
   "id": "e0e77d15-ed1e-42e1-be78-50881b934ffa",
   "metadata": {},
   "source": [
    "# 한국은행 API 사용법"
   ]
  },
  {
   "cell_type": "code",
   "execution_count": 6,
   "id": "c7318eb6-e88d-40f7-8052-ef22a334d682",
   "metadata": {},
   "outputs": [],
   "source": [
    "import requests\n",
    "import pandas as pd\n",
    "from datetime import datetime"
   ]
  },
  {
   "cell_type": "code",
   "execution_count": 42,
   "id": "3b97ca1a-b31e-4fb9-80f6-25222254d5bd",
   "metadata": {},
   "outputs": [
    {
     "name": "stdout",
     "output_type": "stream",
     "text": [
      "   CLASS_NAME   KEYSTAT_NAME DATA_VALUE     CYCLE   UNIT_NAME\n",
      "0        시장금리      한국은행 기준금리       3.25  20241110          % \n",
      "1        시장금리       콜금리(익일물)      3.277  20241111          % \n",
      "2        시장금리   KORIBOR(3개월)        3.4  20241112          % \n",
      "3        시장금리     CD수익률(91일)       3.43  20241111          % \n",
      "4        시장금리  통안증권수익률(364일)      2.836  20241111          % \n",
      "..        ...            ...        ...       ...         ...\n",
      "95     부동산 가격       주택매매가격지수       96.3    202409  2021.6=100\n",
      "96     부동산 가격       주택전세가격지수       93.4    202409  2021.6=100\n",
      "97     부동산 가격    지가변동률(전기대비)      0.194    202409          % \n",
      "98    국제원자재가격      Duba유(현물)      76.07    202410       달러/배럴\n",
      "99    국제원자재가격              금    2689.13    202410         달러 \n",
      "\n",
      "[100 rows x 5 columns]\n"
     ]
    }
   ],
   "source": [
    "import requests\n",
    "import pandas as pd\n",
    "from datetime import datetime\n",
    "\n",
    "# API 정보 설정\n",
    "api_key = 'RW7AN1D6X8RT99OH6AKT'\n",
    "\n",
    "# KeyStatisticList 엔드포인트를 사용하여 주요 통계 지표 조회\n",
    "url = f\"https://ecos.bok.or.kr/api/KeyStatisticList/{api_key}/json/kr/1/100\"\n",
    "\n",
    "# API 호출\n",
    "response = requests.get(url)\n",
    "\n",
    "# 응답 확인 및 데이터 처리\n",
    "if response.status_code == 200:\n",
    "    data = response.json()\n",
    "    \n",
    "    # 데이터가 존재하는지 확인\n",
    "    if 'KeyStatisticList' in data:\n",
    "        records = data['KeyStatisticList']['row']\n",
    "        \n",
    "        # 데이터프레임으로 변환\n",
    "        df = pd.DataFrame(records)\n",
    "        \n",
    "        # 데이터 출력\n",
    "        print(df)\n",
    "    else:\n",
    "        print(\"데이터를 가져올 수 없습니다.\")\n",
    "else:\n",
    "    print(f\"API 요청 실패: {response.status_code}\")\n"
   ]
  },
  {
   "cell_type": "code",
   "execution_count": 50,
   "id": "2f844fd3-0546-4935-a78f-1af234f49737",
   "metadata": {},
   "outputs": [
    {
     "data": {
      "text/plain": [
       "array(['한국은행 기준금리', '콜금리(익일물)', 'KORIBOR(3개월)', 'CD수익률(91일)',\n",
       "       '통안증권수익률(364일)', '국고채수익률(3년)', '국고채수익률(5년)', '회사채수익률(3년,AA-)',\n",
       "       '예금은행 수신금리', '예금은행 대출금리', '예금은행총예금(말잔)', '예금은행대출금(말잔)', '가계신용',\n",
       "       '가계대출연체율', 'M1(협의통화, 평잔)', 'M2(광의통화, 평잔)', 'Lf(평잔)', 'L(말잔)',\n",
       "       '원/달러 환율(종가)', '원/엔(100엔) 환율(매매기준율)', '원/유로 환율(매매기준율)',\n",
       "       '원/위안 환율(종가)', '코스피지수', '코스닥지수', '주식거래대금(KOSPI)', '투자자예탁금',\n",
       "       '채권거래대금', '국고채발행액', '경제성장률(실질, 계절조정 전기대비)',\n",
       "       '민간소비증감률(실질, 계절조정 전기대비)', '설비투자증감률(실질, 계절조정 전기대비)',\n",
       "       '건설투자증감률(실질, 계절조정 전기대비)', '재화의 수출 증감률(실질, 계절조정 전기대비)',\n",
       "       'GDP(명목, 계절조정)', '1인당GNI', '총저축률', '국내총투자율', '수출입의 대 GNI 비율',\n",
       "       '전산업생산지수', '제조업생산지수', '제조업출하지수', '제조업재고지수', '제조업가동률지수', '서비스업생산지수',\n",
       "       '도소매업생산지수', '소매판매액지수', '개인신용카드사용액', '자동차판매액지수', '설비투자지수',\n",
       "       '설비용 기계류내수출하지수', '국내기계수주액', '건설기성액', '건축허가면적', '건설수주액', '건축착공면적',\n",
       "       '동행지수순환변동치', '선행지수순환변동치', '전산업 기업심리지수실적', '소비자심리지수', '경제심리지수',\n",
       "       '제조업매출액증감률', '제조업매출액세전순이익률', '제조업부채비율', '가구당월평균소득', '평균소비성향',\n",
       "       '지니계수', '5분위배율', '실업률', '고용률', '경제활동인구', '취업자수', '시간당명목임금지수',\n",
       "       '노동생산성지수', '단위노동비용지수', '추계인구', '고령인구비율', '합계출산율', '경상수지',\n",
       "       '직접투자(자산)', '직접투자(부채)', '증권투자(자산)', '증권투자(부채)', '수출금액지수', '수입금액지수',\n",
       "       '순상품교역조건지수', '소득교역조건지수', '외환보유액', '대외채무', '대외채권', '소비자물가지수',\n",
       "       '농산물 및 석유류제외 소비자물가지수', '생활물가지수', '생산자물가지수', '수출물가지수', '수입물가지수',\n",
       "       '주택매매가격지수', '주택전세가격지수', '지가변동률(전기대비)', 'Duba유(현물)', '금'],\n",
       "      dtype=object)"
      ]
     },
     "execution_count": 50,
     "metadata": {},
     "output_type": "execute_result"
    }
   ],
   "source": [
    "df['KEYSTAT_NAME'].unique()"
   ]
  },
  {
   "cell_type": "code",
   "execution_count": 59,
   "id": "5b5cc295-6dd2-4c28-9c2e-52aa778e3d02",
   "metadata": {},
   "outputs": [
    {
     "name": "stdout",
     "output_type": "stream",
     "text": [
      "  CLASS_NAME KEYSTAT_NAME DATA_VALUE     CYCLE UNIT_NAME\n",
      "5       시장금리   국고채수익률(3년)      2.901  20241111        % \n",
      "   CLASS_NAME KEYSTAT_NAME DATA_VALUE     CYCLE        UNIT_NAME\n",
      "22         주식        코스피지수    2531.66  20241111  1980.01.04=100 \n"
     ]
    }
   ],
   "source": [
    "filtered_df = df[df['KEYSTAT_NAME'] == '국고채수익률(3년)']\n",
    "print(filtered_df)\n",
    "\n",
    "filtered_df = df[df['KEYSTAT_NAME'] == '코스피지수']\n",
    "print(filtered_df)\n"
   ]
  },
  {
   "cell_type": "code",
   "execution_count": null,
   "id": "856cfdc7-5442-45e1-a344-7809f1b395af",
   "metadata": {},
   "outputs": [],
   "source": []
  }
 ],
 "metadata": {
  "kernelspec": {
   "display_name": "Python 3 (ipykernel)",
   "language": "python",
   "name": "python3"
  },
  "language_info": {
   "codemirror_mode": {
    "name": "ipython",
    "version": 3
   },
   "file_extension": ".py",
   "mimetype": "text/x-python",
   "name": "python",
   "nbconvert_exporter": "python",
   "pygments_lexer": "ipython3",
   "version": "3.12.7"
  }
 },
 "nbformat": 4,
 "nbformat_minor": 5
}
