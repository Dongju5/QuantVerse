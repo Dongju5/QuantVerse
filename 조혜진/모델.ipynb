{
  "nbformat": 4,
  "nbformat_minor": 0,
  "metadata": {
    "colab": {
      "provenance": [],
      "gpuType": "T4",
      "authorship_tag": "ABX9TyOTwbpVtFfSo3uQbAT4F3S0",
      "include_colab_link": true
    },
    "kernelspec": {
      "name": "python3",
      "display_name": "Python 3"
    },
    "language_info": {
      "name": "python"
    },
    "accelerator": "GPU"
  },
  "cells": [
    {
      "cell_type": "markdown",
      "metadata": {
        "id": "view-in-github",
        "colab_type": "text"
      },
      "source": [
        "<a href=\"https://colab.research.google.com/github/Dongju5/QuantVerse/blob/main/%EC%A1%B0%ED%98%9C%EC%A7%84/%EB%AA%A8%EB%8D%B8.ipynb\" target=\"_parent\"><img src=\"https://colab.research.google.com/assets/colab-badge.svg\" alt=\"Open In Colab\"/></a>"
      ]
    },
    {
      "cell_type": "code",
      "source": [
        "!sudo apt-get install -y fonts-nanum\n",
        "!sudo fc-cache -fv\n",
        "!rm ~/.cache/matplotlib -rf"
      ],
      "metadata": {
        "colab": {
          "base_uri": "https://localhost:8080/"
        },
        "collapsed": true,
        "id": "HFHraKo6OHmT",
        "outputId": "f7d55286-282c-42ed-b5c3-1f676e2e9acc"
      },
      "execution_count": 85,
      "outputs": [
        {
          "output_type": "stream",
          "name": "stdout",
          "text": [
            "Reading package lists... Done\n",
            "Building dependency tree... Done\n",
            "Reading state information... Done\n",
            "The following NEW packages will be installed:\n",
            "  fonts-nanum\n",
            "0 upgraded, 1 newly installed, 0 to remove and 49 not upgraded.\n",
            "Need to get 10.3 MB of archives.\n",
            "After this operation, 34.1 MB of additional disk space will be used.\n",
            "Get:1 http://archive.ubuntu.com/ubuntu jammy/universe amd64 fonts-nanum all 20200506-1 [10.3 MB]\n",
            "Fetched 10.3 MB in 1s (12.1 MB/s)\n",
            "debconf: unable to initialize frontend: Dialog\n",
            "debconf: (No usable dialog-like program is installed, so the dialog based frontend cannot be used. at /usr/share/perl5/Debconf/FrontEnd/Dialog.pm line 78, <> line 1.)\n",
            "debconf: falling back to frontend: Readline\n",
            "debconf: unable to initialize frontend: Readline\n",
            "debconf: (This frontend requires a controlling tty.)\n",
            "debconf: falling back to frontend: Teletype\n",
            "dpkg-preconfigure: unable to re-open stdin: \n",
            "Selecting previously unselected package fonts-nanum.\n",
            "(Reading database ... 123630 files and directories currently installed.)\n",
            "Preparing to unpack .../fonts-nanum_20200506-1_all.deb ...\n",
            "Unpacking fonts-nanum (20200506-1) ...\n",
            "Setting up fonts-nanum (20200506-1) ...\n",
            "Processing triggers for fontconfig (2.13.1-4.2ubuntu5) ...\n",
            "/usr/share/fonts: caching, new cache contents: 0 fonts, 1 dirs\n",
            "/usr/share/fonts/truetype: caching, new cache contents: 0 fonts, 3 dirs\n",
            "/usr/share/fonts/truetype/humor-sans: caching, new cache contents: 1 fonts, 0 dirs\n",
            "/usr/share/fonts/truetype/liberation: caching, new cache contents: 16 fonts, 0 dirs\n",
            "/usr/share/fonts/truetype/nanum: caching, new cache contents: 12 fonts, 0 dirs\n",
            "/usr/local/share/fonts: caching, new cache contents: 0 fonts, 0 dirs\n",
            "/root/.local/share/fonts: skipping, no such directory\n",
            "/root/.fonts: skipping, no such directory\n",
            "/usr/share/fonts/truetype: skipping, looped directory detected\n",
            "/usr/share/fonts/truetype/humor-sans: skipping, looped directory detected\n",
            "/usr/share/fonts/truetype/liberation: skipping, looped directory detected\n",
            "/usr/share/fonts/truetype/nanum: skipping, looped directory detected\n",
            "/var/cache/fontconfig: cleaning cache directory\n",
            "/root/.cache/fontconfig: not cleaning non-existent cache directory\n",
            "/root/.fontconfig: not cleaning non-existent cache directory\n",
            "fc-cache: succeeded\n"
          ]
        }
      ]
    },
    {
      "cell_type": "code",
      "execution_count": null,
      "metadata": {
        "id": "qv3yBA0vKaJH"
      },
      "outputs": [],
      "source": [
        "import pandas as pd\n",
        "\n",
        "# 데이터 로드\n",
        "stock_data = pd.read_csv('kospi_200_stock_data.csv')  # 주가 데이터\n",
        "financial_data = pd.read_csv('result_data.csv')  # 재무제표 데이터\n",
        "kospi_200 = pd.read_csv('merged_kospi_200_corp_list.csv')  # 종목명, 시가총액, 산업 정보 포함\n",
        "\n",
        "# 날짜 컬럼 이름 통일\n",
        "financial_data.rename(columns={'공시날짜': '날짜'}, inplace=True)\n",
        "# 날짜 변환: UNIX 타임스탬프 형식 처리\n",
        "financial_data['날짜'] = pd.to_datetime(financial_data['날짜'], errors='coerce', format='%Y%m%d')\n",
        "\n",
        "\n",
        "# 날짜 컬럼의 데이터 타입 변환 (datetime 형식으로 변환)\n",
        "stock_data['날짜'] = pd.to_datetime(stock_data['날짜'], errors='coerce')\n",
        "financial_data['날짜'] = pd.to_datetime(financial_data['날짜'], errors='coerce')\n",
        "\n",
        "# 데이터 병합 (종목 코드와 날짜 기준)\n",
        "merged_data = pd.merge(stock_data, financial_data, on=['stock_code', '날짜'], how='left')\n",
        "merged_data = pd.merge(merged_data, kospi_200[['stock_code', 'industry']], on='stock_code', how='left')\n",
        "\n",
        "# 날짜 오름차순으로 정렬\n",
        "merged_data = merged_data.sort_values(by=['stock_code', '날짜'])\n",
        "\n",
        "# 각 기업별로 forward fill 적용\n",
        "merged_data = merged_data.groupby('stock_code').apply(lambda group: group.fillna(method='ffill'))\n",
        "\n",
        "# groupby 후 원래 인덱스 복원\n",
        "merged_data.reset_index(drop=True, inplace=True)\n",
        "\n",
        "# 날짜 정렬 및 결측치 처리\n",
        "merged_data = merged_data.sort_values(by=['stock_code', '날짜'])\n",
        "merged_data = merged_data.groupby('stock_code').apply(lambda x: x.ffill().bfill()).infer_objects(copy=False)\n",
        "\n",
        "#중복컬럼 제거\n",
        "duplicate_columns = [col for col in merged_data.columns if '_x' in col or '_y' in col]\n",
        "\n",
        "merged_data['corp_name'] = merged_data['corp_name_x']\n",
        "merged_data.drop(columns=['corp_name_x', 'corp_name_y'], inplace=True)\n",
        "merged_data['industry'] = merged_data['industry_x']\n",
        "merged_data.drop(columns=['industry_x', 'industry_y'], inplace=True)\n",
        "\n"
      ]
    },
    {
      "cell_type": "code",
      "source": [
        "import pandas as pd\n",
        "import numpy as np\n",
        "from sklearn.model_selection import train_test_split\n",
        "from sklearn.ensemble import RandomForestRegressor\n",
        "from sklearn.metrics import mean_squared_error, mean_absolute_error, r2_score\n",
        "from sklearn.impute import SimpleImputer\n",
        "\n",
        "# 시가총액이 가장 높은 기업을 선택하기 위한 함수\n",
        "def get_top_market_cap_companies(kospi_data):\n",
        "    \"\"\"\n",
        "    산업군별 시가총액이 가장 높은 기업을 선택합니다.\n",
        "    \"\"\"\n",
        "    top_companies = kospi_data.loc[kospi_data.groupby('industry')['MKTCAP'].idxmax()]\n",
        "    return top_companies\n",
        "\n",
        "# 산업별 가중치 정의\n",
        "industry_weights = {\n",
        "    '수익성 중심 산업군': {\n",
        "        '산업군': ['음식료품', '의약품', '운수창고업', '화학'],\n",
        "        '가중치': {'영업이익률': 0.4, '순이익률': 0.3, '매출액_증감률': 0.1, 'ROE': 0.2}\n",
        "    },\n",
        "    '안정성 중심 산업군': {\n",
        "        '산업군': ['철강금속', '통신업', '전기가스업'],\n",
        "        '가중치': {'부채비율': 0.4, '유동비율': 0.3, '고정비율': 0.2, '영업이익률': 0.1}\n",
        "    },\n",
        "    '성장성 중심 산업군': {\n",
        "        '산업군': ['의료정밀', '비금속광물', '전기전자'],\n",
        "        '가중치': {'매출액_증감률': 0.4, '영업이익_증감률': 0.3, 'ROE': 0.2, '부채비율': 0.1}\n",
        "    },\n",
        "    '혼합형 산업군': {\n",
        "        '산업군': ['건설업', '운수장비', '기계', '기타제조업'],\n",
        "        '가중치': {'영업이익률': 0.3, '순이익률': 0.2, '부채비율': 0.3, 'ROE': 0.2}\n",
        "    },\n",
        "    '소비재/서비스 중심 산업군': {\n",
        "        '산업군': ['유통업', '섬유의복', '서비스업'],\n",
        "        '가중치': {'매출총이익률': 0.4, 'ROE': 0.3, '유동비율': 0.2, '순이익률': 0.1}\n",
        "    }\n",
        "}\n",
        "\n",
        "# 산업별 가중치를 계산하는 함수\n",
        "def apply_weights(row, industry_weights):\n",
        "    weighted_score = 0\n",
        "    for group, details in industry_weights.items():\n",
        "        if row['industry'] in details['산업군']:\n",
        "            for key, weight in details['가중치'].items():\n",
        "                if key in row and not pd.isna(row[key]):\n",
        "                    weighted_score += row[key] * weight\n",
        "    return weighted_score\n",
        "\n",
        "# 데이터 로드\n",
        "merged_data = pd.read_csv('merged_kospi_200_full_data.csv')\n",
        "kospi_data = pd.read_csv('merged_kospi_200_corp_list.csv')  # 시가총액 정보가 포함된 기업 리스트\n",
        "\n",
        "# 시가총액이 가장 높은 기업들의 데이터를 선택\n",
        "top_companies = get_top_market_cap_companies(kospi_data)\n",
        "selected_data = merged_data[merged_data['ISU_NM'].isin(top_companies['ISU_NM'])]\n",
        "selected_data\n",
        "\n",
        "# 가중치 계산 적용\n",
        "selected_data['weighted_score'] = selected_data.apply(lambda row: apply_weights(row, industry_weights), axis=1)\n",
        "\n",
        "# 타겟 변수 생성: 한 달 후 주가\n",
        "selected_data['1_month_later_price'] = selected_data.groupby('ISU_CD')['TDD_CLSPRC'].shift(-20)\n",
        "\n",
        "# 특성과 타겟 설정\n",
        "features = ['weighted_score'] + list(set([key for details in industry_weights.values() for key in details['가중치'].keys()]))\n",
        "X = selected_data[features]\n",
        "y = selected_data['1_month_later_price']\n",
        "\n",
        "# 결측치 및 무한값 처리\n",
        "X.replace([np.inf, -np.inf], np.nan, inplace=True)\n",
        "imputer = SimpleImputer(strategy='mean')\n",
        "X = pd.DataFrame(imputer.fit_transform(X), columns=X.columns)\n",
        "y = y.bfill().ffill()\n",
        "\n",
        "# 데이터 분리\n",
        "X_train, X_test, y_train, y_test = train_test_split(X, y, test_size=0.2, random_state=42)\n",
        "\n",
        "# 모델 훈련\n",
        "model = RandomForestRegressor(random_state=42)\n",
        "model.fit(X_train, y_train)\n",
        "\n",
        "# 모델 평가\n",
        "y_pred = model.predict(X_test)\n",
        "print(\"모델 평가 결과:\")\n",
        "print(f\"MAE: {mean_absolute_error(y_test, y_pred):.2f}\")\n",
        "print(f\"MSE: {mean_squared_error(y_test, y_pred):.2f}\")\n",
        "print(f\"R^2: {r2_score(y_test, y_pred):.2f}\")\n"
      ],
      "metadata": {
        "colab": {
          "base_uri": "https://localhost:8080/"
        },
        "id": "r2WAmWikgsJL",
        "outputId": "34ec021d-2fa3-473a-a143-a768fe7a38b2"
      },
      "execution_count": 1,
      "outputs": [
        {
          "output_type": "stream",
          "name": "stderr",
          "text": [
            "<ipython-input-1-788593997113>:60: SettingWithCopyWarning: \n",
            "A value is trying to be set on a copy of a slice from a DataFrame.\n",
            "Try using .loc[row_indexer,col_indexer] = value instead\n",
            "\n",
            "See the caveats in the documentation: https://pandas.pydata.org/pandas-docs/stable/user_guide/indexing.html#returning-a-view-versus-a-copy\n",
            "  selected_data['weighted_score'] = selected_data.apply(lambda row: apply_weights(row, industry_weights), axis=1)\n",
            "<ipython-input-1-788593997113>:63: SettingWithCopyWarning: \n",
            "A value is trying to be set on a copy of a slice from a DataFrame.\n",
            "Try using .loc[row_indexer,col_indexer] = value instead\n",
            "\n",
            "See the caveats in the documentation: https://pandas.pydata.org/pandas-docs/stable/user_guide/indexing.html#returning-a-view-versus-a-copy\n",
            "  selected_data['1_month_later_price'] = selected_data.groupby('ISU_CD')['TDD_CLSPRC'].shift(-20)\n",
            "<ipython-input-1-788593997113>:71: SettingWithCopyWarning: \n",
            "A value is trying to be set on a copy of a slice from a DataFrame\n",
            "\n",
            "See the caveats in the documentation: https://pandas.pydata.org/pandas-docs/stable/user_guide/indexing.html#returning-a-view-versus-a-copy\n",
            "  X.replace([np.inf, -np.inf], np.nan, inplace=True)\n"
          ]
        },
        {
          "output_type": "stream",
          "name": "stdout",
          "text": [
            "모델 평가 결과:\n",
            "MAE: 13699.90\n",
            "MSE: 1624196876.08\n",
            "R^2: 0.97\n"
          ]
        }
      ]
    },
    {
      "cell_type": "code",
      "source": [
        "def predict_stock_price_on_date(stock_name, date, data,  industry_weights, trading_days=20):\n",
        "    \"\"\"\n",
        "    특정 종목과 날짜를 기준으로 1개월 후 주가를 예측합니다.\n",
        "    Args:\n",
        "        stock_name (str): 종목명\n",
        "        date (str): 예측 기준 날짜 (YYYY-MM-DD 형식)\n",
        "        data (pd.DataFrame): 병합된 데이터프레임\n",
        "        best_model (sklearn model): 최적화된 모델\n",
        "        industry_weights (dict): 산업별 재무 가중치 설정\n",
        "        trading_days (int): 예측 기간 (기본값 20일)\n",
        "    Returns:\n",
        "        dict: 예측 결과\n",
        "    \"\"\"\n",
        "    # 날짜 및 종목 데이터 필터링\n",
        "    stock_data = data[(data['ISU_NM'] == stock_name) & (data['BAS_DD'] <= date)].copy()\n",
        "    if stock_data.empty:\n",
        "        return {\"error\": f\"종목명 '{stock_name}' 또는 날짜 '{date}'에 해당하는 데이터가 없습니다.\"}\n",
        "\n",
        "    # 가장 가까운 날짜 데이터 가져오기\n",
        "    stock_data = stock_data.sort_values(by='BAS_DD')\n",
        "    latest_data = stock_data.iloc[-1]\n",
        "    current_price = latest_data['TDD_CLSPRC']\n",
        "\n",
        "    # 종목 데이터에 가중치 점수 계산 적용\n",
        "    weighted_score = apply_weights(latest_data, industry_weights)\n",
        "\n",
        "    # 재무지표 기반 등락률 계산\n",
        "    expected_return = weighted_score * 0.01  # 가중치 점수 기반 등락률 계산 (비율로 변환)\n",
        "\n",
        "    # 예측에 사용할 특성 만들기\n",
        "    #feature = [weighted_score] + [latest_data[key] for key in features[1:]]\n",
        "    #feature = np.array(feature).reshape(1, -1)\n",
        "\n",
        "    # 최적화된 모델로 예측\n",
        "    #predicted_price = model.predict(feature)[0]\n",
        "\n",
        "    # 1개월 뒤 주가 계산 (단, 이는 주가 예측에만 영향을 미침)\n",
        "    growth_factor = (1 + expected_return) ** (trading_days / 252)\n",
        "    predicted_price_with_growth = current_price * growth_factor\n",
        "\n",
        "    # 결과 반환\n",
        "    return {\n",
        "        \"종목명\": stock_name,\n",
        "        \"예측 기준 날짜\": date,\n",
        "        \"현재 주가\": current_price,\n",
        "        \"재무지표 등락률\": expected_return,\n",
        "        \"1개월 후 예상 주가\": predicted_price_with_growth\n",
        "    }\n",
        "\n",
        "# 특정 종목과 날짜로 예측 실행\n",
        "result = predict_stock_price_on_date(\"삼성전자\", \"2024-08-15\",selected_data, industry_weights)\n",
        "print(result)"
      ],
      "metadata": {
        "colab": {
          "base_uri": "https://localhost:8080/"
        },
        "id": "QxPe6OWE3QxM",
        "outputId": "86482111-f8f6-499d-8df2-fed9ecc85d31"
      },
      "execution_count": 10,
      "outputs": [
        {
          "output_type": "stream",
          "name": "stdout",
          "text": [
            "{'종목명': '삼성전자', '예측 기준 날짜': '2024-08-15', '현재 주가': 77200, '재무지표 등락률': 0.218051829478, '1개월 후 예상 주가': 78418.07387546373}\n"
          ]
        }
      ]
    },
    {
      "cell_type": "code",
      "source": [
        "# 피처 중요도 추출\n",
        "feature_importances = model.feature_importances_\n",
        "\n",
        "# 중요도에 따른 피처 정렬\n",
        "sorted_idx = np.argsort(feature_importances)[::-1]\n",
        "\n",
        "# 중요 피처 출력\n",
        "print(\"Top 10 Important Features:\")\n",
        "for idx in sorted_idx[:10]:\n",
        "    print(f\"{X.columns[idx]}: {feature_importances[idx]:.4f}\")\n"
      ],
      "metadata": {
        "id": "C7uBbMeMOezW",
        "outputId": "e8a37b0c-6ab1-4ca6-fe20-fa44a3e5466a",
        "colab": {
          "base_uri": "https://localhost:8080/"
        }
      },
      "execution_count": 69,
      "outputs": [
        {
          "output_type": "stream",
          "name": "stdout",
          "text": [
            "Top 10 Important Features:\n",
            "고정비율: 0.2029\n",
            "매출총이익률: 0.1951\n",
            "유동비율: 0.1882\n",
            "weighted_score: 0.1433\n",
            "순이익률: 0.0926\n",
            "부채비율: 0.0677\n",
            "영업이익률: 0.0523\n",
            "매출액_증감률: 0.0251\n",
            "ROE: 0.0244\n",
            "영업이익_증감률: 0.0083\n"
          ]
        }
      ]
    },
    {
      "cell_type": "code",
      "source": [
        "# 특정 종목과 날짜로 예측 실행\n",
        "result = predict_stock_price_on_date(\"삼성전자\", \"2024-08-14\", selected_data, industry_weights)\n",
        "print(result)\n",
        "result = predict_stock_price_on_date(\"NAVER\", \"2024-08-14\", selected_data, industry_weights)\n",
        "print(result)\n",
        "result = predict_stock_price_on_date(\"현대건설\", \"2024-08-14\", selected_data, industry_weights)\n",
        "print(result)\n",
        "result = predict_stock_price_on_date(\"현대자동차\", \"2024-08-14\", selected_data, industry_weights)\n",
        "print(result)\n",
        "result = predict_stock_price_on_date(\"LG화학\", \"2024-08-14\", selected_data, industry_weights)\n",
        "print(result)\n",
        "result = predict_stock_price_on_date(\"삼성물산\", \"2024-08-14\", selected_data, industry_weights)\n",
        "print(result)\n",
        "\n"
      ],
      "metadata": {
        "colab": {
          "base_uri": "https://localhost:8080/"
        },
        "id": "p603gCujrMoU",
        "outputId": "e9721ce9-8f10-4fc4-fddb-76bf2153aaa0",
        "collapsed": true
      },
      "execution_count": 15,
      "outputs": [
        {
          "output_type": "stream",
          "name": "stdout",
          "text": [
            "{'종목명': '삼성전자', '예측 기준 날짜': '2024-08-14', '현재 주가': 77200, '재무지표 등락률': 0.218051829478, '1개월 후 예상 주가': 78418.07387546373}\n",
            "{'종목명': 'NAVER', '예측 기준 날짜': '2024-08-14', '현재 주가': 157300, '재무지표 등락률': 0.27982693721900004, '1개월 후 예상 주가': 160410.4990054758}\n",
            "{'종목명': '현대건설', '예측 기준 날짜': '2024-08-14', '현재 주가': 30800, '재무지표 등락률': 0.379594450565, '1개월 후 예상 주가': 31596.727196606127}\n",
            "{'종목명': '현대자동차', '예측 기준 날짜': '2024-08-14', '현재 주가': 241000, '재무지표 등락률': 0.593191194959, '1개월 후 예상 주가': 250074.86919643614}\n",
            "{'종목명': 'LG화학', '예측 기준 날짜': '2024-08-14', '현재 주가': 296000, '재무지표 등락률': -0.005524411207000003, '1개월 후 예상 주가': 295869.8889813353}\n",
            "{'종목명': '삼성물산', '예측 기준 날짜': '2024-08-14', '현재 주가': 139500, '재무지표 등락률': 0.338921389635, '1개월 후 예상 주가': 142769.07132634058}\n"
          ]
        }
      ]
    },
    {
      "cell_type": "code",
      "source": [
        "import matplotlib.pyplot as plt\n",
        "import numpy as np\n",
        "import pandas as pd\n",
        "from datetime import datetime, timedelta\n",
        "\n",
        "# 한글 폰트 설정\n",
        "plt.rcParams['font.family'] = 'NanumGothic'\n",
        "\n",
        "# 실제 주가와 예측 주가 리스트\n",
        "actual_prices = []  # 실제 주가 리스트\n",
        "predicted_prices = []  # 예측된 주가 리스트\n",
        "\n",
        "# 6개의 종목과 날짜에 대해 예측 수행\n",
        "stocks = [\"삼성전자\", \"NAVER\", \"현대건설\", \"현대자동차\", \"LG화학\", \"삼성물산\"]\n",
        "dates_input = [\"2024-8-14\", \"2024-8-14\", \"2024-8-14\", \"2024-8-14\", \"2024-8-14\", \"2024-8-14\"]\n",
        "\n",
        "for stock_name, date in zip(stocks, dates_input):\n",
        "    # 날짜 포맷 변환 (문자열 -> datetime 객체)\n",
        "    date_obj = datetime.strptime(date, \"%Y-%m-%d\")\n",
        "\n",
        "    # 한 달 뒤의 날짜 계산\n",
        "    one_month_later = date_obj + timedelta(days=30)  # 30일 후로 간주\n",
        "\n",
        "    # 한 달 뒤 날짜를 다시 문자열로 변환\n",
        "    date_one_month_later = one_month_later.strftime(\"%Y-%m-%d\")\n",
        "\n",
        "    result = predict_stock_price_on_date(stock_name, date, merged_data, industry_weights)\n",
        "\n",
        "    # 예측값과 실제값 리스트에 추가\n",
        "    predicted_price = result[\"1개월 후 예상 주가\"]\n",
        "\n",
        "    # 실제 주가 가져오기: 1개월 뒤 날짜로 필터링\n",
        "    actual_data = merged_data[(merged_data['ISU_NM'] == stock_name) & (merged_data['BAS_DD'] == date_one_month_later)]\n",
        "\n",
        "    if not actual_data.empty:\n",
        "        actual_price = actual_data['TDD_CLSPRC'].values[0]\n",
        "    else:\n",
        "        actual_price = np.nan  # 실제 데이터가 없으면 NaN 처리\n",
        "\n",
        "    predicted_prices.append(predicted_price)\n",
        "    actual_prices.append(actual_price)\n",
        "\n",
        "# 시각화: 실제 주가와 예측 주가 비교\n",
        "x = np.arange(len(stocks))  # x축 값 (종목 수)\n",
        "\n",
        "# 막대 차트\n",
        "plt.figure(figsize=(10, 6))\n",
        "\n",
        "bar_width = 0.35  # 막대 너비\n",
        "plt.bar(x - bar_width / 2, actual_prices, bar_width, label='Actual Prices', color='blue')\n",
        "plt.bar(x + bar_width / 2, predicted_prices, bar_width, label='Predicted Prices', color='orange')\n",
        "\n",
        "# 그래프 제목과 레이블 설정\n",
        "plt.title('Actual vs Predicted Stock Prices for 6 Companies')\n",
        "plt.xlabel('Stocks')\n",
        "plt.ylabel('Stock Price')\n",
        "plt.xticks(x, stocks)  # 종목 이름을 x축에 표시\n",
        "plt.legend()\n",
        "\n",
        "# 그래프 표시\n",
        "plt.show()\n",
        "\n",
        "# NaN 값 제외하고 정확도 평가\n",
        "actual_prices_clean = [price for price in actual_prices if not np.isnan(price)]\n",
        "predicted_prices_clean = [predicted_prices[i] for i in range(len(predicted_prices)) if not np.isnan(actual_prices[i])]\n",
        "\n",
        "if len(actual_prices_clean) > 0:\n",
        "    mae = mean_absolute_error(actual_prices_clean, predicted_prices_clean)\n",
        "    mse = mean_squared_error(actual_prices_clean, predicted_prices_clean)\n",
        "    r2 = r2_score(actual_prices_clean, predicted_prices_clean)\n",
        "\n",
        "    print(f\"MAE: {mae:.2f}\")\n",
        "    print(f\"MSE: {mse:.2f}\")\n",
        "    print(f\"R^2: {r2:.2f}\")\n",
        "else:\n",
        "    print(\"실제 주가 데이터가 부족하여 정확도를 계산할 수 없습니다.\")"
      ],
      "metadata": {
        "colab": {
          "base_uri": "https://localhost:8080/",
          "height": 616
        },
        "collapsed": true,
        "id": "tNZBhFw0MkOw",
        "outputId": "5d934c43-b7dc-462d-f430-a3d8be861c0a"
      },
      "execution_count": 13,
      "outputs": [
        {
          "output_type": "display_data",
          "data": {
            "text/plain": [
              "<Figure size 1000x600 with 1 Axes>"
            ],
            "image/png": "[encoded data removed]"
          },
          "metadata": {}
        },
        {
          "output_type": "stream",
          "name": "stdout",
          "text": [
            "MAE: 17205.40\n",
            "MSE: 410818023.94\n",
            "R^2: 0.96\n"
          ]
        }
      ]
    },
    {
      "cell_type": "markdown",
      "source": [
        "**weighted_score**는 산업별 가중치를 반영하여 계산된 점수로, 각 기업의 재무 성과를 나타내는 종합적인 지표입니다. 이 값은 특정 기업의 재무 건전성, 성장성, 수익성 등을 반영하며, **다양한 재무 지표들(예: 영업이익률, ROE, 부채비율 등)**의 가중 평균으로 계산됩니다.\n",
        "\n",
        "이 점수가 주가 예측에 큰 영향을 미친다는 것은, 기업의 종합적인 재무 상태가 주가 변동성을 예측하는 데 중요한 요소라는 것을 의미합니다."
      ],
      "metadata": {
        "id": "UH2MfEuzTs8I"
      }
    },
    {
      "cell_type": "code",
      "source": [
        "# 특정 종목과 날짜로 예측 실행\n",
        "result = predict_stock_price_on_date(\"삼성전자\", \"2024-11-15\", merged_data,random_search.best_estimator_, industry_weights)\n",
        "print(result)\n",
        "result = predict_stock_price_on_date(\"NAVER\", \"2023-12-02\", merged_data, random_search.best_estimator_, industry_weights)\n",
        "print(result)\n",
        "result = predict_stock_price_on_date(\"현대건설\", \"2024-10-01\", merged_data, random_search.best_estimator_, industry_weights)\n",
        "print(result)\n",
        "result = predict_stock_price_on_date(\"현대자동차\", \"2023-07-01\", merged_data, random_search.best_estimator_,  industry_weights)\n",
        "print(result)\n",
        "result = predict_stock_price_on_date(\"LG화학\", \"2024-08-21\", merged_data, random_search.best_estimator_, industry_weights)\n",
        "print(result)\n",
        "result = predict_stock_price_on_date(\"삼성물산\", \"2022-05-20\", merged_data, random_search.best_estimator_, industry_weights)\n",
        "print(result)"
      ],
      "metadata": {
        "colab": {
          "base_uri": "https://localhost:8080/"
        },
        "id": "f1-eLua84Kbq",
        "outputId": "7e6c7658-ee20-4888-ed66-6e44d35ed9b9"
      },
      "execution_count": 32,
      "outputs": [
        {
          "output_type": "stream",
          "name": "stdout",
          "text": [
            "{'종목명': '삼성전자', '예측 기준 날짜': '2024-11-15', '현재 주가': 53500, '재무지표 등락률': 0.023376512374000003, '1개월 후 예상 주가': 53598.20505938988}\n",
            "{'종목명': 'NAVER', '예측 기준 날짜': '2023-12-02', '현재 주가': 206000, '재무지표 등락률': 0.23210530286300002, '1개월 후 예상 주가': 209440.8985007654}\n",
            "{'종목명': '현대건설', '예측 기준 날짜': '2024-10-01', '현재 주가': 30500, '재무지표 등락률': 0.379594450565, '1개월 후 예상 주가': 31288.966866769053}\n",
            "{'종목명': '현대자동차', '예측 기준 날짜': '2023-07-01', '현재 주가': 206500, '재무지표 등락률': 0.5412907094730001, '1개월 후 예상 주가': 213713.28948997328}\n",
            "{'종목명': 'LG화학', '예측 기준 날짜': '2024-08-21', '현재 주가': 298000, '재무지표 등락률': -0.005524411207000003, '1개월 후 예상 주가': 297869.0098528308}\n",
            "{'종목명': '삼성물산', '예측 기준 날짜': '2022-05-20', '현재 주가': 116500, '재무지표 등락률': 0.275986246042, '1개월 후 예상 주가': 118775.37247006137}\n"
          ]
        },
        {
          "output_type": "stream",
          "name": "stderr",
          "text": [
            "/usr/local/lib/python3.10/dist-packages/sklearn/base.py:493: UserWarning: X does not have valid feature names, but RandomForestRegressor was fitted with feature names\n",
            "  warnings.warn(\n",
            "/usr/local/lib/python3.10/dist-packages/sklearn/base.py:493: UserWarning: X does not have valid feature names, but RandomForestRegressor was fitted with feature names\n",
            "  warnings.warn(\n",
            "/usr/local/lib/python3.10/dist-packages/sklearn/base.py:493: UserWarning: X does not have valid feature names, but RandomForestRegressor was fitted with feature names\n",
            "  warnings.warn(\n",
            "/usr/local/lib/python3.10/dist-packages/sklearn/base.py:493: UserWarning: X does not have valid feature names, but RandomForestRegressor was fitted with feature names\n",
            "  warnings.warn(\n",
            "/usr/local/lib/python3.10/dist-packages/sklearn/base.py:493: UserWarning: X does not have valid feature names, but RandomForestRegressor was fitted with feature names\n",
            "  warnings.warn(\n",
            "/usr/local/lib/python3.10/dist-packages/sklearn/base.py:493: UserWarning: X does not have valid feature names, but RandomForestRegressor was fitted with feature names\n",
            "  warnings.warn(\n"
          ]
        }
      ]
    }
  ]
}