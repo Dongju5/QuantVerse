{
  "nbformat": 4,
  "nbformat_minor": 0,
  "metadata": {
    "colab": {
      "provenance": []
    },
    "kernelspec": {
      "name": "python3",
      "display_name": "Python 3"
    },
    "language_info": {
      "name": "python"
    }
  },
  "cells": [
    {
      "cell_type": "code",
      "source": [
        "pip install dart-fss"
      ],
      "metadata": {
        "id": "A9YPZbyzFQLf"
      },
      "execution_count": null,
      "outputs": []
    },
    {
      "cell_type": "code",
      "source": [
        "api_key = '0728a6d81b70b86763fd38daafcc1fccff0beedb'"
      ],
      "metadata": {
        "id": "Ltzdwy8ZFRMn"
      },
      "execution_count": null,
      "outputs": []
    },
    {
      "cell_type": "code",
      "source": [
        "import dart_fss as dart\n",
        "import pandas as pd\n",
        "import requests\n",
        "import xml.etree.ElementTree as ET\n",
        "import zipfile\n",
        "import io\n",
        "from bs4 import BeautifulSoup\n",
        "dart.set_api_key(api_key=api_key)"
      ],
      "metadata": {
        "id": "h9iUUHamFSYM"
      },
      "execution_count": null,
      "outputs": []
    },
    {
      "cell_type": "code",
      "source": [
        "# 상장 기업명 크롤링\n",
        "corp_list = dart.api.filings.get_corp_code()\n",
        "corp_df = pd.DataFrame.from_dict(corp_list)\n",
        "corp_df = corp_df.dropna(subset = 'stock_code').sort_values('modify_date',ascending=False).reset_index(drop=True)\n",
        "corp_df['done_YN'] = \"N\"\n",
        "corp_df"
      ],
      "metadata": {
        "id": "sgWDwr3vFTnR"
      },
      "execution_count": null,
      "outputs": []
    },
    {
      "cell_type": "code",
      "source": [
        "import pandas as pd\n",
        "\n",
        "# DART API를 통해 상장 기업 목록 가져오기\n",
        "corp_list = dart.api.filings.get_corp_code()\n",
        "\n",
        "# 상장 기업 목록을 DataFrame으로 변환\n",
        "corp_df = pd.DataFrame.from_dict(corp_list)\n",
        "\n",
        "# 'stock_code'가 없는 기업 제거하고, 'modify_date' 기준으로 정렬\n",
        "corp_df = corp_df.dropna(subset='stock_code').sort_values('modify_date', ascending=False).reset_index(drop=True)\n",
        "\n",
        "# 'done_YN' 열 추가 (기본 값: \"N\")\n",
        "corp_df['done_YN'] = \"N\"\n",
        "\n",
        "# CSV 파일로 저장\n",
        "csv_file_path = './corp_list.csv'\n",
        "corp_df.to_csv(csv_file_path, index=False, encoding='utf-8-sig')\n",
        "\n",
        "# 확인 메시지 출력\n",
        "print(f\"상장 기업 목록이 {csv_file_path}에 저장되었습니다.\")"
      ],
      "metadata": {
        "id": "CnGUzyNcFVJP"
      },
      "execution_count": null,
      "outputs": []
    },
    {
      "cell_type": "code",
      "source": [
        "import pandas as pd\n",
        "\n",
        "# corp_df와 kospi_df를 CSV로 로드 (예시로 경로는 그대로 사용)\n",
        "corp_df = pd.read_csv('./corp_list.csv')  # DART에서 가져온 상장 기업 목록\n",
        "kospi_df = pd.read_csv('./kospi_ticker_info.csv')  # pykrx에서 가져온 코스피 종목 정보\n",
        "\n",
        "# 'stock_code'를 문자열로 변환 (형식 일치)\n",
        "corp_df['stock_code'] = corp_df['stock_code'].astype(str)\n",
        "kospi_df['stock_code'] = kospi_df['stock_code'].astype(str)\n",
        "\n",
        "# 'corp_code'를 기준으로 두 데이터를 병합 (내부 조인)\n",
        "merged_df = pd.merge(corp_df, kospi_df, on='stock_code', how='inner')\n",
        "\n",
        "# 불필요한 열 제거 (예: 'Unnamed: 5', 'Unnamed: 6', 'corp_name_x', 'corp_name_y')\n",
        "# 'corp_name_x'와 'corp_name_y'는 동일한 기업명을 가지고 있기 때문에 하나만 남기면 됩니다.\n",
        "merged_df = merged_df[['corp_code', 'corp_name_x', 'stock_code', 'modify_date', 'done_YN']]\n",
        "\n",
        "# 'corp_name_x'는 이미 기업명을 가지고 있으므로 'corp_name'으로 이름 변경\n",
        "merged_df = merged_df.rename(columns={'corp_name_x': 'corp_name'})\n",
        "\n",
        "# 결과 확인\n",
        "print(merged_df)\n",
        "\n",
        "# 병합된 데이터를 CSV로 저장 (선택사항)\n",
        "merged_df.to_csv('./merged_kospi_corp_list.csv', index=False, encoding='utf-8-sig')"
      ],
      "metadata": {
        "id": "E-Fx3GJsFYDd"
      },
      "execution_count": null,
      "outputs": []
    },
    {
      "cell_type": "code",
      "source": [
        "import pandas as pd\n",
        "\n",
        "# corp_df와 kospi_df를 CSV로 로드 (예시로 경로는 그대로 사용)\n",
        "corp_df = pd.read_csv('./corp_list.csv')  # DART에서 가져온 상장 기업 목록\n",
        "kospi200_df = pd.read_csv('./kospi200.csv')  # pykrx에서 가져온 코스피 종목 정보\n",
        "\n",
        "# 'stock_code'를 문자열로 변환 (형식 일치)\n",
        "corp_df['stock_code'] = corp_df['stock_code'].astype(str)\n",
        "kospi200_df['stock_code'] = kospi200_df['stock_code'].astype(str)\n",
        "\n",
        "# 'stock_code'를 기준으로 두 데이터를 병합 (내부 조인)\n",
        "merged_df = pd.merge(corp_df, kospi200_df, on='stock_code', how='inner')\n",
        "\n",
        "# 불필요한 열 제거 (예: 'Unnamed: 5', 'Unnamed: 6', 'corp_name_x', 'corp_name_y')\n",
        "merged_df = merged_df[['corp_code', 'corp_name_x', 'stock_code', 'modify_date', 'done_YN']]\n",
        "\n",
        "# 'corp_name_x'는 이미 기업명을 가지고 있으므로 'corp_name'으로 이름 변경\n",
        "merged_df = merged_df.rename(columns={'corp_name_x': 'corp_name'})\n",
        "\n",
        "# 결과 확인\n",
        "print(merged_df)\n",
        "\n",
        "# 병합된 데이터를 CSV로 저장 (선택사항)\n",
        "merged_df.to_csv('./merged_kospi_200_corp_list.csv', index=False, encoding='utf-8-sig')"
      ],
      "metadata": {
        "id": "9JXn4ZslFcsF"
      },
      "execution_count": null,
      "outputs": []
    }
  ]
}