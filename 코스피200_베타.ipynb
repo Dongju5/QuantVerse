{
  "nbformat": 4,
  "nbformat_minor": 0,
  "metadata": {
    "colab": {
      "provenance": [],
      "gpuType": "T4",
      "authorship_tag": "ABX9TyNl3nDi1ZiuJh/Hmq1msDAt",
      "include_colab_link": true
    },
    "kernelspec": {
      "name": "python3",
      "display_name": "Python 3"
    },
    "language_info": {
      "name": "python"
    },
    "accelerator": "GPU"
  },
  "cells": [
    {
      "cell_type": "markdown",
      "metadata": {
        "id": "view-in-github",
        "colab_type": "text"
      },
      "source": [
        "<a href=\"https://colab.research.google.com/github/Dongju5/QuantVerse/blob/main/%EC%BD%94%EC%8A%A4%ED%94%BC200_%EB%B2%A0%ED%83%80.ipynb\" target=\"_parent\"><img src=\"https://colab.research.google.com/assets/colab-badge.svg\" alt=\"Open In Colab\"/></a>"
      ]
    },
    {
      "cell_type": "code",
      "execution_count": null,
      "metadata": {
        "id": "VaMbRp5O47-Y"
      },
      "outputs": [],
      "source": [
        "!pip install pykrx"
      ]
    },
    {
      "cell_type": "code",
      "source": [
        "from pykrx import stock\n",
        "import pandas as pd\n",
        "\n",
        "# 최신 코스피 200 지수 데이터를 불러와 월별 수익률을 계산하는 함수\n",
        "def get_kospi200_monthly_return(start_date, end_date):\n",
        "    # 일별 데이터를 가져옵니다\n",
        "    kospi200 = stock.get_index_ohlcv_by_date(start_date, end_date, \"1028\")  # 코스피 200 지수 코드\n",
        "\n",
        "    # 날짜 인덱스를 사용하여 매월 첫 번째 날의 종가를 추출합니다\n",
        "    kospi200 = kospi200.resample('MS').first()  # MS: Month Start\n",
        "\n",
        "    # 월별 수익률 계산\n",
        "    kospi200['Monthly Return'] = kospi200['종가'].pct_change()\n",
        "    kospi200 = kospi200.dropna()  # 결측값 제거\n",
        "    return kospi200[['종가', 'Monthly Return']]\n",
        "\n",
        "# 함수 사용 예시: 2020년 10월부터 2024년 11월까지 데이터 불러오기\n",
        "kospi200_data = get_kospi200_monthly_return(\"2020-10-01\", \"2024-11-01\")\n",
        "print(kospi200_data.tail())"
      ],
      "metadata": {
        "colab": {
          "base_uri": "https://localhost:8080/"
        },
        "id": "49YfD9LG5gZR",
        "outputId": "eeabe132-8e91-4c90-dff2-94b89a5cbfaa"
      },
      "execution_count": null,
      "outputs": [
        {
          "output_type": "stream",
          "name": "stdout",
          "text": [
            "코스피 200         종가  Monthly Return\n",
            "날짜                                \n",
            "2024-07-01  384.34        0.051603\n",
            "2024-08-01  380.54       -0.009887\n",
            "2024-09-01  362.09       -0.048484\n",
            "2024-10-01  340.72       -0.059018\n",
            "2024-11-01  337.49       -0.009480\n"
          ]
        }
      ]
    },
    {
      "cell_type": "code",
      "source": [
        "print(kospi200_data.head())"
      ],
      "metadata": {
        "colab": {
          "base_uri": "https://localhost:8080/"
        },
        "id": "B_zSlrwr6EDJ",
        "outputId": "7029ef47-728b-4233-991c-b53b24a47a72"
      },
      "execution_count": null,
      "outputs": [
        {
          "output_type": "stream",
          "name": "stdout",
          "text": [
            "코스피 200         종가  Monthly Return\n",
            "날짜                                \n",
            "2020-11-01  305.95       -0.024114\n",
            "2020-12-01  352.40        0.151822\n",
            "2021-01-01  399.88        0.134733\n",
            "2021-02-01  415.45        0.038937\n",
            "2021-03-01  414.80       -0.001565\n"
          ]
        }
      ]
    },
    {
      "cell_type": "code",
      "source": [
        "# Save to CSV\n",
        "file_path = 'kospi200_monthly_return.csv'\n",
        "kospi200_data.to_csv(file_path)\n",
        "print(f\"Data saved to {file_path}\")"
      ],
      "metadata": {
        "colab": {
          "base_uri": "https://localhost:8080/"
        },
        "id": "BWej8SeLIepG",
        "outputId": "7954dac2-a71f-4ef3-8f5f-a33f0ed6b3c3"
      },
      "execution_count": null,
      "outputs": [
        {
          "output_type": "stream",
          "name": "stdout",
          "text": [
            "Data saved to kospi200_monthly_return.csv\n"
          ]
        }
      ]
    },
    {
      "cell_type": "code",
      "source": [
        "!pip install pykrx scikit-learn\n"
      ],
      "metadata": {
        "colab": {
          "base_uri": "https://localhost:8080/"
        },
        "id": "V1TR6t5g8a-Y",
        "outputId": "4b6cca71-6e9a-4a6d-85f7-fd6fb624a569",
        "collapsed": true
      },
      "execution_count": null,
      "outputs": [
        {
          "output_type": "stream",
          "name": "stdout",
          "text": [
            "Requirement already satisfied: pykrx in /usr/local/lib/python3.10/dist-packages (1.0.48)\n",
            "Requirement already satisfied: scikit-learn in /usr/local/lib/python3.10/dist-packages (1.5.2)\n",
            "Requirement already satisfied: requests in /usr/local/lib/python3.10/dist-packages (from pykrx) (2.32.3)\n",
            "Requirement already satisfied: pandas in /usr/local/lib/python3.10/dist-packages (from pykrx) (2.2.2)\n",
            "Requirement already satisfied: datetime in /usr/local/lib/python3.10/dist-packages (from pykrx) (5.5)\n",
            "Requirement already satisfied: numpy in /usr/local/lib/python3.10/dist-packages (from pykrx) (1.26.4)\n",
            "Requirement already satisfied: xlrd in /usr/local/lib/python3.10/dist-packages (from pykrx) (2.0.1)\n",
            "Requirement already satisfied: deprecated in /usr/local/lib/python3.10/dist-packages (from pykrx) (1.2.14)\n",
            "Requirement already satisfied: multipledispatch in /usr/local/lib/python3.10/dist-packages (from pykrx) (1.0.0)\n",
            "Requirement already satisfied: matplotlib in /usr/local/lib/python3.10/dist-packages (from pykrx) (3.8.0)\n",
            "Requirement already satisfied: scipy>=1.6.0 in /usr/local/lib/python3.10/dist-packages (from scikit-learn) (1.13.1)\n",
            "Requirement already satisfied: joblib>=1.2.0 in /usr/local/lib/python3.10/dist-packages (from scikit-learn) (1.4.2)\n",
            "Requirement already satisfied: threadpoolctl>=3.1.0 in /usr/local/lib/python3.10/dist-packages (from scikit-learn) (3.5.0)\n",
            "Requirement already satisfied: zope.interface in /usr/local/lib/python3.10/dist-packages (from datetime->pykrx) (7.1.1)\n",
            "Requirement already satisfied: pytz in /usr/local/lib/python3.10/dist-packages (from datetime->pykrx) (2024.2)\n",
            "Requirement already satisfied: wrapt<2,>=1.10 in /usr/local/lib/python3.10/dist-packages (from deprecated->pykrx) (1.16.0)\n",
            "Requirement already satisfied: contourpy>=1.0.1 in /usr/local/lib/python3.10/dist-packages (from matplotlib->pykrx) (1.3.0)\n",
            "Requirement already satisfied: cycler>=0.10 in /usr/local/lib/python3.10/dist-packages (from matplotlib->pykrx) (0.12.1)\n",
            "Requirement already satisfied: fonttools>=4.22.0 in /usr/local/lib/python3.10/dist-packages (from matplotlib->pykrx) (4.54.1)\n",
            "Requirement already satisfied: kiwisolver>=1.0.1 in /usr/local/lib/python3.10/dist-packages (from matplotlib->pykrx) (1.4.7)\n",
            "Requirement already satisfied: packaging>=20.0 in /usr/local/lib/python3.10/dist-packages (from matplotlib->pykrx) (24.1)\n",
            "Requirement already satisfied: pillow>=6.2.0 in /usr/local/lib/python3.10/dist-packages (from matplotlib->pykrx) (10.4.0)\n",
            "Requirement already satisfied: pyparsing>=2.3.1 in /usr/local/lib/python3.10/dist-packages (from matplotlib->pykrx) (3.2.0)\n",
            "Requirement already satisfied: python-dateutil>=2.7 in /usr/local/lib/python3.10/dist-packages (from matplotlib->pykrx) (2.8.2)\n",
            "Requirement already satisfied: tzdata>=2022.7 in /usr/local/lib/python3.10/dist-packages (from pandas->pykrx) (2024.2)\n",
            "Requirement already satisfied: charset-normalizer<4,>=2 in /usr/local/lib/python3.10/dist-packages (from requests->pykrx) (3.4.0)\n",
            "Requirement already satisfied: idna<4,>=2.5 in /usr/local/lib/python3.10/dist-packages (from requests->pykrx) (3.10)\n",
            "Requirement already satisfied: urllib3<3,>=1.21.1 in /usr/local/lib/python3.10/dist-packages (from requests->pykrx) (2.2.3)\n",
            "Requirement already satisfied: certifi>=2017.4.17 in /usr/local/lib/python3.10/dist-packages (from requests->pykrx) (2024.8.30)\n",
            "Requirement already satisfied: six>=1.5 in /usr/local/lib/python3.10/dist-packages (from python-dateutil>=2.7->matplotlib->pykrx) (1.16.0)\n",
            "Requirement already satisfied: setuptools in /usr/local/lib/python3.10/dist-packages (from zope.interface->datetime->pykrx) (75.1.0)\n"
          ]
        }
      ]
    },
    {
      "cell_type": "markdown",
      "source": [
        "개별 주식과 코스피 200 지수의 월별 수익률을 불러오고 베타 계산"
      ],
      "metadata": {
        "id": "xQQuPINE8hSK"
      }
    },
    {
      "cell_type": "code",
      "source": [
        "from pykrx import stock\n",
        "import pandas as pd\n",
        "from sklearn.linear_model import LinearRegression\n",
        "\n",
        "# 개별 주식과 코스피 200의 월별 수익률을 불러오는 함수\n",
        "def get_monthly_returns(ticker, start_date, end_date):\n",
        "    # 코스피 200 지수 데이터\n",
        "    kospi200 = stock.get_index_ohlcv_by_date(start_date, end_date, \"1028\")\n",
        "    kospi200 = kospi200.resample('MS').first()  # 매월 첫 번째 날의 데이터\n",
        "    kospi200['KOSPI200 Return'] = kospi200['종가'].pct_change()\n",
        "\n",
        "    # 개별 주식 데이터\n",
        "    stock_data = stock.get_market_ohlcv_by_date(start_date, end_date, ticker)\n",
        "    stock_data = stock_data.resample('MS').first()  # 매월 첫 번째 날의 데이터\n",
        "    stock_data['Stock Return'] = stock_data['종가'].pct_change()\n",
        "\n",
        "    # 결측값 제거\n",
        "    kospi200 = kospi200.dropna()\n",
        "    stock_data = stock_data.dropna()\n",
        "\n",
        "    # 수익률 데이터를 합치기\n",
        "    data = pd.DataFrame({\n",
        "        'KOSPI200': kospi200['KOSPI200 Return'],\n",
        "        'Stock': stock_data['Stock Return']\n",
        "    }).dropna()\n",
        "\n",
        "    return data\n"
      ],
      "metadata": {
        "id": "hQtrECb-8bh9"
      },
      "execution_count": null,
      "outputs": []
    },
    {
      "cell_type": "code",
      "source": [
        "# 베타 계산 함수\n",
        "def calculate_beta(data):\n",
        "    X = data['KOSPI200'].values.reshape(-1, 1)\n",
        "    y = data['Stock'].values.reshape(-1, 1)\n",
        "\n",
        "    # 회귀 모델 생성 및 훈련\n",
        "    model = LinearRegression()\n",
        "    model.fit(X, y)\n",
        "\n",
        "    # 베타 값 추출\n",
        "    beta = model.coef_[0][0]\n",
        "    return beta\n",
        "\n",
        "# 사용 예시: 삼성전자(005930)와 코스피 200의 월별 수익률 및 베타 계산\n",
        "ticker = \"005930\"  # 삼성전자 티커\n",
        "start_date = \"2020-10-01\"\n",
        "end_date = \"2024-11-01\"\n",
        "\n",
        "# 월별 수익률 데이터 불러오기\n",
        "data = get_monthly_returns(ticker, start_date, end_date)\n",
        "print(data.tail())\n",
        "\n",
        "# 베타 계산\n",
        "beta = calculate_beta(data)\n",
        "print(f\"{ticker}의 베타 값: {beta}\")\n",
        "\n",
        "#5개년 베타값 평균 함"
      ],
      "metadata": {
        "colab": {
          "base_uri": "https://localhost:8080/"
        },
        "id": "zMS1vcvp87GB",
        "outputId": "f4923e66-b832-4a63-b6ec-15efdf840cb9"
      },
      "execution_count": null,
      "outputs": [
        {
          "output_type": "stream",
          "name": "stdout",
          "text": [
            "            KOSPI200     Stock\n",
            "날짜                            \n",
            "2024-07-01  0.051603  0.080581\n",
            "2024-08-01 -0.009887  0.015892\n",
            "2024-09-01 -0.048484 -0.104693\n",
            "2024-10-01 -0.059018 -0.176075\n",
            "2024-11-01 -0.009480 -0.048940\n",
            "005930의 베타 값: 1.1806671609575334\n"
          ]
        }
      ]
    },
    {
      "cell_type": "code",
      "source": [
        "# 월별 수익률 데이터 상위 5개 행 출력\n",
        "print(data.head())"
      ],
      "metadata": {
        "colab": {
          "base_uri": "https://localhost:8080/"
        },
        "id": "m0QxWDV99U1D",
        "outputId": "d4d78c1e-a5ec-46bc-afd4-ceeea151a736"
      },
      "execution_count": null,
      "outputs": [
        {
          "output_type": "stream",
          "name": "stdout",
          "text": [
            "            KOSPI200     Stock\n",
            "날짜                            \n",
            "2020-11-01 -0.024114 -0.022147\n",
            "2020-12-01  0.151822  0.181185\n",
            "2021-01-01  0.134733  0.224189\n",
            "2021-02-01  0.038937  0.000000\n",
            "2021-03-01 -0.001565  0.007229\n"
          ]
        }
      ]
    },
    {
      "cell_type": "code",
      "source": [
        "from pykrx import stock\n",
        "\n",
        "# 코스피 200 종목의 티커 목록 가져오기\n",
        "kospi200_tickers = stock.get_index_portfolio_deposit_file(\"1028\")  # 코스피 200 지수 코드\n",
        "print(kospi200_tickers)  # 티커 목록 확인\n"
      ],
      "metadata": {
        "colab": {
          "base_uri": "https://localhost:8080/"
        },
        "id": "E4epf8Mg9XLH",
        "outputId": "712c3bff-0847-4ecf-e7fe-434bf3fbcc2a"
      },
      "execution_count": null,
      "outputs": [
        {
          "output_type": "stream",
          "name": "stdout",
          "text": [
            "['005930', '000660', '373220', '207940', '005380', '068270', '000270', '105560', '035420', '055550', '005490', '010130', '012330', '028260', '051910', '032830', '006400', '138040', '012450', '086790', '003670', '000810', '259960', '035720', '329180', '066570', '015760', '033780', '034020', '009540', '011200', '017670', '402340', '267260', '316140', '003550', '024110', '030200', '096770', '034730', '000100', '323410', '018260', '326030', '047050', '042700', '010140', '009150', '086280', '003490', '352820', '042660', '005830', '450080', '090430', '010950', '064350', '047810', '267250', '079550', '180640', '051900', '006800', '034220', '036570', '251270', '011790', '161390', '029780', '021240', '003230', '071050', '454910', '128940', '010120', '005940', '032640', '010620', '016360', '302440', '011170', '271560', '241560', '097950', '078930', '066970', '011070', '022100', '028050', '036460', '011780', '035250', '175330', '272210', '000150', '009830', '006260', '000720', '039490', '004020', '377300', '138930', '005070', '001040', '008930', '001450', '052690', '026960', '088350', '004990', '012750', '001570', '112610', '383220', '009420', '001440', '018880', '361610', '007070', '081660', '002380', '004370', '000120', '000880', '002790', '030000', '051600', '282330', '489790', '006280', '017800', '023530', '028670', '192820', '103140', '111770', '139480', '069620', '000240', '006360', '204320', '008770', '161890', '007310', '000080', '003090', '004170', '005850', '139130', '014820', '042670', '047040', '014680', '009240', '010060', '375500', '185750', '298020', '073240', '001120', '457190', '001800', '002710', '004000', '004490', '005300', '009970', '011210', '069960', '137310', '192080', '280360', '336260', '001740', '000670', '003620', '300720', '120110', '298050', '004800', '000210', '285130', '001680', '003030', '005250', '005420', '006110', '006650', '008730', '009900', '016380', '032350', '039130', '069260', '093370', '114090', '145720', '271940', '001430', '178920', '105630']\n"
          ]
        }
      ]
    },
    {
      "cell_type": "code",
      "source": [
        "from pykrx import stock\n",
        "import pandas as pd\n",
        "from sklearn.linear_model import LinearRegression\n",
        "from datetime import datetime\n",
        "\n",
        "# 개별 주식과 코스피 200의 월별 수익률을 불러오는 함수\n",
        "def get_monthly_returns(ticker, start_date, end_date):\n",
        "    try:\n",
        "        # 코스피 200 지수 데이터\n",
        "        kospi200 = stock.get_index_ohlcv_by_date(start_date, end_date, \"1028\")\n",
        "        kospi200 = kospi200.resample('MS').first()  # 매월 첫 번째 날의 데이터\n",
        "        kospi200['KOSPI200 Return'] = kospi200['종가'].pct_change()\n",
        "\n",
        "        # 개별 주식 데이터\n",
        "        stock_data = stock.get_market_ohlcv_by_date(start_date, end_date, ticker)\n",
        "        stock_data = stock_data.resample('MS').first()  # 매월 첫 번째 날의 데이터\n",
        "        stock_data['Stock Return'] = stock_data['종가'].pct_change()\n",
        "\n",
        "        # 결측값 제거\n",
        "        kospi200 = kospi200.dropna()\n",
        "        stock_data = stock_data.dropna()\n",
        "\n",
        "        # 수익률 데이터를 합치기\n",
        "        data = pd.DataFrame({\n",
        "            'KOSPI200': kospi200['KOSPI200 Return'],\n",
        "            'Stock': stock_data['Stock Return']\n",
        "        }).dropna()\n",
        "\n",
        "        return data\n",
        "    except Exception as e:\n",
        "        print(f\"{ticker} 데이터 로드 중 오류 발생: {e}\")\n",
        "        return None\n",
        "\n",
        "# 베타 계산 함수\n",
        "def calculate_beta(data):\n",
        "    if data is None or data.empty:\n",
        "        return None\n",
        "\n",
        "    X = data['KOSPI200'].values.reshape(-1, 1)\n",
        "    y = data['Stock'].values.reshape(-1, 1)\n",
        "\n",
        "    # 회귀 모델 생성 및 훈련\n",
        "    model = LinearRegression()\n",
        "    model.fit(X, y)\n",
        "\n",
        "    # 베타 값 추출\n",
        "    beta = model.coef_[0][0]\n",
        "    return beta\n",
        "\n",
        "# 모든 코스피 200 종목에 대해 베타 계산 및 업데이트\n",
        "kospi200_tickers = stock.get_index_portfolio_deposit_file(\"1028\")  # 코스피 200 지수 코드\n",
        "start_date = \"2020-10-01\"\n",
        "end_date = datetime.today().strftime('%Y-%m-%d')  # 오늘 날짜를 종료 날짜로 설정\n",
        "\n",
        "# 빈 데이터프레임 생성\n",
        "beta_values = pd.DataFrame(columns=['Ticker', 'Beta'])\n",
        "\n",
        "# 루프를 통해 각 티커에 대해 베타 계산\n",
        "for ticker in kospi200_tickers:\n",
        "    data = get_monthly_returns(ticker, start_date, end_date)\n",
        "    if data is not None:\n",
        "        beta = calculate_beta(data)\n",
        "        if beta is not None:\n",
        "            # pd.concat을 사용해 새로운 행을 추가\n",
        "            new_row = pd.DataFrame({'Ticker': [ticker], 'Beta': [beta]})\n",
        "            beta_values = pd.concat([beta_values, new_row], ignore_index=True)\n",
        "            print(f\"{ticker}의 베타 값: {beta}\")\n",
        "        else:\n",
        "            print(f\"{ticker}의 베타 계산 불가: 데이터 부족\")\n",
        "    else:\n",
        "        print(f\"{ticker}의 데이터 불러오기 실패\")\n",
        "\n",
        "print(beta_values)\n",
        "\n",
        "\n"
      ],
      "metadata": {
        "colab": {
          "base_uri": "https://localhost:8080/"
        },
        "id": "Q1XbTLMO-Vef",
        "outputId": "e6f43775-35e7-425a-a6de-0af593ffb28a"
      },
      "execution_count": null,
      "outputs": [
        {
          "output_type": "stream",
          "name": "stderr",
          "text": [
            "<ipython-input-12-c552e3380ff9>:66: FutureWarning: The behavior of DataFrame concatenation with empty or all-NA entries is deprecated. In a future version, this will no longer exclude empty or all-NA columns when determining the result dtypes. To retain the old behavior, exclude the relevant entries before the concat operation.\n",
            "  beta_values = pd.concat([beta_values, new_row], ignore_index=True)\n"
          ]
        },
        {
          "output_type": "stream",
          "name": "stdout",
          "text": [
            "005930의 베타 값: 1.1806671609575334\n",
            "000660의 베타 값: 1.4490941054945132\n",
            "373220의 베타 값: 1.2391109359926549\n",
            "207940의 베타 값: 0.5338979453273003\n",
            "005380의 베타 값: 0.7958440007886163\n",
            "068270의 베타 값: 1.1060295264137743\n",
            "000270의 베타 값: 0.8345108723243051\n",
            "105560의 베타 값: 0.5095962484663699\n",
            "055550의 베타 값: 0.42973807567163175\n",
            "035420의 베타 값: 0.9651578062112957\n",
            "005490의 베타 값: 1.0742285132056857\n",
            "010130의 베타 값: 0.13404955975641594\n",
            "012330의 베타 값: 0.8841900598875948\n",
            "028260의 베타 값: 0.6263482303164191\n",
            "051910의 베타 값: 1.067118363416714\n",
            "032830의 베타 값: 0.3870272285311783\n",
            "006400의 베타 값: 1.3259115314038858\n",
            "138040의 베타 값: 0.7381002197050464\n",
            "012450의 베타 값: 0.9681899348869674\n",
            "086790의 베타 값: 0.46426367450015427\n",
            "003670의 베타 값: 1.9797263613116214\n",
            "000810의 베타 값: 0.0845044157969389\n",
            "259960의 베타 값: 1.236994305036556\n",
            "035720의 베타 값: 1.4859915096723275\n",
            "329180의 베타 값: 0.27269130789013774\n",
            "066570의 베타 값: 1.3418994271827225\n",
            "015760의 베타 값: 0.5664990308603256\n",
            "033780의 베타 값: 0.07255705479792837\n",
            "034020의 베타 값: 0.7633459570901552\n",
            "009540의 베타 값: 1.0261226320674866\n",
            "011200의 베타 값: 1.6138406296432821\n",
            "402340의 베타 값: 1.358269983528383\n",
            "017670의 베타 값: 0.24179873211199665\n",
            "267260의 베타 값: 0.05874524266575776\n",
            "316140의 베타 값: 0.3717205808808549\n",
            "003550의 베타 값: 0.7554886780864759\n",
            "024110의 베타 값: 0.3239122018451567\n",
            "030200의 베타 값: 0.28280843006905343\n",
            "034730의 베타 값: 0.9316856125469891\n",
            "000100의 베타 값: 0.677104596493446\n",
            "323410의 베타 값: 1.975037936331206\n",
            "096770의 베타 값: 1.760660642354994\n",
            "018260의 베타 값: 0.6710713211442624\n",
            "326030의 베타 값: 0.8494150997588701\n",
            "047050의 베타 값: 1.1839049567322317\n",
            "003490의 베타 값: 1.057454679173013\n",
            "042700의 베타 값: 1.8936821152786798\n",
            "010140의 베타 값: 0.9001509005956692\n",
            "009150의 베타 값: 1.1455177233802956\n",
            "086280의 베타 값: 0.5700602636434068\n",
            "352820의 베타 값: 1.4540868558316997\n",
            "042660의 베타 값: 0.8554563084300043\n",
            "005830의 베타 값: -0.20787697432275123\n",
            "450080의 베타 값: 4.360762608989266\n",
            "090430의 베타 값: 0.7995872178111474\n",
            "064350의 베타 값: 0.8913045685648753\n",
            "010950의 베타 값: 0.5960499067586762\n",
            "047810의 베타 값: 0.3366896363161096\n",
            "267250의 베타 값: 0.6374075367791218\n",
            "079550의 베타 값: 0.8348602595025164\n",
            "180640의 베타 값: 0.46147291863180756\n",
            "051900의 베타 값: 0.4440763101823475\n",
            "006800의 베타 값: 0.5741145276956571\n",
            "034220의 베타 값: 1.2801508651451452\n",
            "036570의 베타 값: 0.9263895566274752\n",
            "161390의 베타 값: 0.7134708912137006\n",
            "251270의 베타 값: 0.9863433386002919\n",
            "011790의 베타 값: 1.509752220288115\n",
            "029780의 베타 값: 0.18885768986344237\n",
            "003230의 베타 값: 0.05880430951174301\n",
            "021240의 베타 값: 0.38980316460288705\n",
            "454910의 베타 값: 5.488619255557836\n",
            "005940의 베타 값: 0.6027134920930377\n",
            "128940의 베타 값: 0.8490235286673236\n",
            "010120의 베타 값: 0.6003977004000763\n",
            "032640의 베타 값: 0.28401186850890453\n",
            "010620의 베타 값: 0.9027620073190953\n",
            "071050의 베타 값: 0.8380642341091971\n",
            "302440의 베타 값: 1.2744556709208983\n",
            "016360의 베타 값: 0.8208489379913\n",
            "097950의 베타 값: 0.3666052300613327\n",
            "011170의 베타 값: 0.4707003806321766\n",
            "271560의 베타 값: 0.059514022407723105\n",
            "241560의 베타 값: 0.8002238164997265\n",
            "078930의 베타 값: 0.36930167082048526\n",
            "066970의 베타 값: 1.761543722462011\n",
            "011070의 베타 값: 1.0835550244821253\n",
            "022100의 베타 값: 1.304566570543449\n",
            "028050의 베타 값: 0.6761279639867191\n",
            "036460의 베타 값: 0.39786853061309396\n",
            "011780의 베타 값: 0.8576911264795702\n",
            "035250의 베타 값: 0.34470327930574396\n",
            "175330의 베타 값: 0.32875835854555824\n",
            "272210의 베타 값: 1.6226289386497303\n",
            "000150의 베타 값: 1.023993719368412\n",
            "009830의 베타 값: 0.5251476646424906\n",
            "006260의 베타 값: 0.6790541202420435\n",
            "000720의 베타 값: 0.7726167915458129\n",
            "039490의 베타 값: 1.0999403629081235\n",
            "004020의 베타 값: 0.9442140565896932\n",
            "377300의 베타 값: 1.7161387566369313\n",
            "138930의 베타 값: 0.34617197277064826\n",
            "005070의 베타 값: 1.2498273471810086\n",
            "001040의 베타 값: 0.37915440945690415\n",
            "008930의 베타 값: 1.0501567812274963\n",
            "001450의 베타 값: -0.19241053952406648\n",
            "052690의 베타 값: 0.8710858961684416\n",
            "026960의 베타 값: 0.4436859995134347\n",
            "088350의 베타 값: 0.4955683420973361\n",
            "004990의 베타 값: 0.22586835775200512\n",
            "012750의 베타 값: 0.23410672966318363\n",
            "001570의 베타 값: 1.9753815027560728\n",
            "383220의 베타 값: 0.5869749231633493\n",
            "009420의 베타 값: 0.8312069169838991\n",
            "018880의 베타 값: 1.1371354868703738\n",
            "001440의 베타 값: 1.3329489989591194\n",
            "007070의 베타 값: 0.206304787173028\n",
            "361610의 베타 값: 1.9911243128691951\n",
            "112610의 베타 값: 1.3405406312884687\n",
            "081660의 베타 값: 0.5209440410924251\n",
            "002380의 베타 값: 0.46497840001685675\n",
            "004370의 베타 값: 0.010411544583821826\n",
            "000120의 베타 값: 0.6185868066634468\n",
            "000880의 베타 값: 0.7908417795575943\n",
            "002790의 베타 값: 0.7860720817393212\n",
            "030000의 베타 값: 0.03135760242929384\n",
            "051600의 베타 값: 0.32312884775083645\n",
            "282330의 베타 값: -0.037991560680401035\n",
            "489790의 베타 값: 6.039468245958194\n",
            "006280의 베타 값: 1.1707149212371808\n",
            "017800의 베타 값: 0.9709095498114451\n",
            "023530의 베타 값: 0.11515193630802223\n",
            "028670의 베타 값: 0.8804710953687129\n",
            "192820의 베타 값: 0.5107638945959451\n",
            "103140의 베타 값: 0.5705555778860584\n",
            "111770의 베타 값: 0.11856762108425076\n",
            "139480의 베타 값: 0.36921905766141316\n",
            "069620의 베타 값: 1.0007582319155768\n",
            "000240의 베타 값: 0.36071508528978974\n",
            "006360의 베타 값: 0.9464752765790209\n",
            "204320의 베타 값: 1.4322566021787113\n",
            "008770의 베타 값: 0.42237924830345813\n",
            "161890의 베타 값: 0.4879505051113003\n",
            "007310의 베타 값: 0.11600514780324483\n",
            "000080의 베타 값: 0.339478549461245\n",
            "003090의 베타 값: 1.379088162660292\n",
            "004170의 베타 값: 0.3767276533240095\n",
            "005850의 베타 값: 0.995972382497628\n",
            "139130의 베타 값: 0.3102497557366562\n",
            "014820의 베타 값: 1.104567610093182\n",
            "042670의 베타 값: 1.1218003618024663\n",
            "047040의 베타 값: 1.3173600933584875\n",
            "014680의 베타 값: 1.471766178538603\n",
            "009240의 베타 값: 0.775011318477278\n",
            "010060의 베타 값: 0.5539507998275318\n",
            "375500의 베타 값: 0.7668325428563759\n",
            "185750의 베타 값: 1.0247102784039388\n",
            "298020의 베타 값: 1.308719416307727\n",
            "073240의 베타 값: 0.8056709051163091\n",
            "001120의 베타 값: 0.9786047057255758\n",
            "457190의 베타 값: 2.9785739099801005\n",
            "001800의 베타 값: -0.03460022270368558\n",
            "002710의 베타 값: 1.7364645816117668\n",
            "004000의 베타 값: 0.5026683563607193\n",
            "004490의 베타 값: 2.1968599561010658\n",
            "005300의 베타 값: 0.14013223778558553\n",
            "009970의 베타 값: 0.13026360833032527\n",
            "011210의 베타 값: 1.4863192731110755\n",
            "069960의 베타 값: 0.4416958368388846\n",
            "137310의 베타 값: 0.6911068680962751\n",
            "192080의 베타 값: 0.37583944210518433\n",
            "280360의 베타 값: 0.1292608514638609\n",
            "336260의 베타 값: 1.5309476193435267\n",
            "001740의 베타 값: 0.40752957796105105\n",
            "000670의 베타 값: 0.5379395027167578\n",
            "003620의 베타 값: -0.2827928846977995\n",
            "300720의 베타 값: 1.004311919359743\n",
            "120110의 베타 값: 0.7629983931503898\n",
            "298050의 베타 값: 1.312663046346829\n",
            "004800의 베타 값: 0.32375663750583156\n",
            "000210의 베타 값: 0.4115570784744644\n",
            "285130의 베타 값: 0.8471963378750015\n",
            "001680의 베타 값: 0.28551555044122334\n",
            "003030의 베타 값: 0.33361835444041155\n",
            "005250의 베타 값: 1.5853280940450294\n",
            "005420의 베타 값: 1.1004224394843716\n",
            "006110의 베타 값: 0.7160011330136877\n",
            "006650의 베타 값: 0.6613006782946275\n",
            "008730의 베타 값: 0.9463798565448173\n",
            "009900의 베타 값: 3.029405401086971\n",
            "016380의 베타 값: 1.2255724710861167\n",
            "032350의 베타 값: 0.4475719510987679\n",
            "039130의 베타 값: 0.806859757666858\n",
            "069260의 베타 값: 0.400386371734616\n",
            "114090의 베타 값: 0.4801217796007662\n",
            "145720의 베타 값: 0.7588391761151534\n",
            "271940의 베타 값: 1.677845198895627\n",
            "001430의 베타 값: 0.8888373278669768\n",
            "093370의 베타 값: 1.195337266281671\n",
            "178920의 베타 값: 1.4769936547883633\n",
            "105630의 베타 값: 0.3378336566918807\n",
            "     Ticker      Beta\n",
            "0    005930  1.180667\n",
            "1    000660  1.449094\n",
            "2    373220  1.239111\n",
            "3    207940  0.533898\n",
            "4    005380  0.795844\n",
            "..      ...       ...\n",
            "196  271940  1.677845\n",
            "197  001430  0.888837\n",
            "198  093370  1.195337\n",
            "199  178920  1.476994\n",
            "200  105630  0.337834\n",
            "\n",
            "[201 rows x 2 columns]\n"
          ]
        }
      ]
    },
    {
      "cell_type": "code",
      "source": [
        "# 결과를 엑셀 파일로 저장\n",
        "beta_values.to_excel(\"kospi200_beta_values.xlsx\", index=False)\n",
        "print(\"베타 값이 kospi200_beta_values.xlsx 파일로 저장되었습니다.\")\n"
      ],
      "metadata": {
        "id": "f-BaorxhL2GT",
        "outputId": "a0cd7442-d453-4092-b9d1-70a6cc30b0ab",
        "colab": {
          "base_uri": "https://localhost:8080/"
        }
      },
      "execution_count": null,
      "outputs": [
        {
          "output_type": "stream",
          "name": "stdout",
          "text": [
            "베타 값이 kospi200_beta_values.xlsx 파일로 저장되었습니다.\n"
          ]
        }
      ]
    }
  ]
}