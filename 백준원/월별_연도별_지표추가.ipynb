{
  "nbformat": 4,
  "nbformat_minor": 0,
  "metadata": {
    "colab": {
      "provenance": []
    },
    "kernelspec": {
      "name": "python3",
      "display_name": "Python 3"
    },
    "language_info": {
      "name": "python"
    }
  },
  "cells": [
    {
      "cell_type": "code",
      "source": [
        "# 전날 대비 비율 계산 함수\n",
        "def calculate_ratio(today, yesterday):\n",
        "    if yesterday == 0:\n",
        "        return 0\n",
        "    else:\n",
        "        return today / yesterday\n",
        "\n",
        "def setRatio(df, newName, whatCol):\n",
        "    df[whatCol] = pd.to_numeric(df[whatCol], errors='coerce').fillna(0)\n",
        "    for i in range(1, len(df)):\n",
        "        df.loc[i, newName] = calculate_ratio(df.loc[i, whatCol], df.loc[i - 1, whatCol])"
      ],
      "metadata": {
        "id": "iwh4VsJD5d_t"
      },
      "execution_count": 10,
      "outputs": []
    },
    {
      "cell_type": "code",
      "source": [
        "def calculateNextDay(df, whatCol):\n",
        "    df[whatCol] = pd.to_numeric(df[whatCol], errors='coerce').fillna(0)\n",
        "    strNext = '다음날' + whatCol\n",
        "    df[strNext] = 0\n",
        "    for i in range(len(df) - 1):\n",
        "        today_close = df.loc[i, whatCol]\n",
        "        next_day_close = df.loc[i+1, whatCol]\n",
        "        df.loc[i, strNext] = 1 if next_day_close > today_close else 0"
      ],
      "metadata": {
        "id": "KdKKqqqrESyl"
      },
      "execution_count": 11,
      "outputs": []
    },
    {
      "cell_type": "code",
      "source": [
        "def calculateDifferent(df, whatCol1, whatCol2):\n",
        "    df[whatCol1] = pd.to_numeric(df[whatCol1], errors='coerce').fillna(0)\n",
        "    df[whatCol2] = pd.to_numeric(df[whatCol2], errors='coerce').fillna(0)\n",
        "    strNext = whatCol1 + '와' + whatCol2 + '차이'\n",
        "    df[strNext] = 0.0\n",
        "    for i in range(len(df)):\n",
        "        df.loc[i, strNext] = abs(df.loc[i, whatCol1] - df.loc[i, whatCol2])"
      ],
      "metadata": {
        "id": "3RzC8B_jO6dN"
      },
      "execution_count": 12,
      "outputs": []
    },
    {
      "cell_type": "code",
      "source": [
        "columns_to_convert = ['거래량', '거래대금', '시가', '고가', '저가', '종가']\n",
        "for col in columns_to_convert:\n",
        "    strRatio = '전날대비' + col + '비율'\n",
        "    setRatio(money_2023_df, strRatio, col)"
      ],
      "metadata": {
        "id": "vKmZXXOBEIEf"
      },
      "execution_count": 14,
      "outputs": []
    },
    {
      "cell_type": "code",
      "source": [
        "columns_to_next = ['종가','거래량','거래대금']\n",
        "for col in columns_to_next:\n",
        "    calculateNextDay(money_2023_df, col)"
      ],
      "metadata": {
        "id": "dGpxQ7pOEW2t"
      },
      "execution_count": 15,
      "outputs": []
    },
    {
      "cell_type": "code",
      "source": [
        "calculateDifferent(money_2023_df, '시가','고가')\n",
        "calculateDifferent(money_2023_df, '시가','저가')\n",
        "calculateDifferent(money_2023_df, '종가','고가')\n",
        "calculateDifferent(money_2023_df, '종가','저가')"
      ],
      "metadata": {
        "id": "VP1iK4zBO_Al"
      },
      "execution_count": 16,
      "outputs": []
    },
    {
      "cell_type": "code",
      "source": [
        "pip install pykrx"
      ],
      "metadata": {
        "colab": {
          "base_uri": "https://localhost:8080/"
        },
        "id": "puC6RjY395RJ",
        "outputId": "8803e7d1-1745-43bf-9c04-86f9feaac4fe"
      },
      "execution_count": 13,
      "outputs": [
        {
          "output_type": "stream",
          "name": "stdout",
          "text": [
            "Collecting pykrx\n",
            "  Downloading pykrx-1.0.48-py3-none-any.whl.metadata (60 kB)\n",
            "\u001b[?25l     \u001b[90m━━━━━━━━━━━━━━━━━━━━━━━━━━━━━━━━━━━━━━━━\u001b[0m \u001b[32m0.0/60.9 kB\u001b[0m \u001b[31m?\u001b[0m eta \u001b[36m-:--:--\u001b[0m\r\u001b[2K     \u001b[90m━━━━━━━━━━━━━━━━━━━━━━━━━━━━━━━━━━━━━━━━\u001b[0m \u001b[32m60.9/60.9 kB\u001b[0m \u001b[31m3.3 MB/s\u001b[0m eta \u001b[36m0:00:00\u001b[0m\n",
            "\u001b[?25hRequirement already satisfied: requests in /usr/local/lib/python3.10/dist-packages (from pykrx) (2.32.3)\n",
            "Requirement already satisfied: pandas in /usr/local/lib/python3.10/dist-packages (from pykrx) (2.2.2)\n",
            "Collecting datetime (from pykrx)\n",
            "  Downloading DateTime-5.5-py3-none-any.whl.metadata (33 kB)\n",
            "Requirement already satisfied: numpy in /usr/local/lib/python3.10/dist-packages (from pykrx) (1.26.4)\n",
            "Requirement already satisfied: xlrd in /usr/local/lib/python3.10/dist-packages (from pykrx) (2.0.1)\n",
            "Requirement already satisfied: deprecated in /usr/local/lib/python3.10/dist-packages (from pykrx) (1.2.14)\n",
            "Requirement already satisfied: multipledispatch in /usr/local/lib/python3.10/dist-packages (from pykrx) (1.0.0)\n",
            "Requirement already satisfied: matplotlib in /usr/local/lib/python3.10/dist-packages (from pykrx) (3.8.0)\n",
            "Collecting zope.interface (from datetime->pykrx)\n",
            "  Downloading zope.interface-7.1.1-cp310-cp310-manylinux_2_5_x86_64.manylinux1_x86_64.manylinux_2_17_x86_64.manylinux2014_x86_64.whl.metadata (44 kB)\n",
            "\u001b[2K     \u001b[90m━━━━━━━━━━━━━━━━━━━━━━━━━━━━━━━━━━━━━━━━\u001b[0m \u001b[32m44.1/44.1 kB\u001b[0m \u001b[31m2.8 MB/s\u001b[0m eta \u001b[36m0:00:00\u001b[0m\n",
            "\u001b[?25hRequirement already satisfied: pytz in /usr/local/lib/python3.10/dist-packages (from datetime->pykrx) (2024.2)\n",
            "Requirement already satisfied: wrapt<2,>=1.10 in /usr/local/lib/python3.10/dist-packages (from deprecated->pykrx) (1.16.0)\n",
            "Requirement already satisfied: contourpy>=1.0.1 in /usr/local/lib/python3.10/dist-packages (from matplotlib->pykrx) (1.3.0)\n",
            "Requirement already satisfied: cycler>=0.10 in /usr/local/lib/python3.10/dist-packages (from matplotlib->pykrx) (0.12.1)\n",
            "Requirement already satisfied: fonttools>=4.22.0 in /usr/local/lib/python3.10/dist-packages (from matplotlib->pykrx) (4.54.1)\n",
            "Requirement already satisfied: kiwisolver>=1.0.1 in /usr/local/lib/python3.10/dist-packages (from matplotlib->pykrx) (1.4.7)\n",
            "Requirement already satisfied: packaging>=20.0 in /usr/local/lib/python3.10/dist-packages (from matplotlib->pykrx) (24.2)\n",
            "Requirement already satisfied: pillow>=6.2.0 in /usr/local/lib/python3.10/dist-packages (from matplotlib->pykrx) (11.0.0)\n",
            "Requirement already satisfied: pyparsing>=2.3.1 in /usr/local/lib/python3.10/dist-packages (from matplotlib->pykrx) (3.2.0)\n",
            "Requirement already satisfied: python-dateutil>=2.7 in /usr/local/lib/python3.10/dist-packages (from matplotlib->pykrx) (2.8.2)\n",
            "Requirement already satisfied: tzdata>=2022.7 in /usr/local/lib/python3.10/dist-packages (from pandas->pykrx) (2024.2)\n",
            "Requirement already satisfied: charset-normalizer<4,>=2 in /usr/local/lib/python3.10/dist-packages (from requests->pykrx) (3.4.0)\n",
            "Requirement already satisfied: idna<4,>=2.5 in /usr/local/lib/python3.10/dist-packages (from requests->pykrx) (3.10)\n",
            "Requirement already satisfied: urllib3<3,>=1.21.1 in /usr/local/lib/python3.10/dist-packages (from requests->pykrx) (2.2.3)\n",
            "Requirement already satisfied: certifi>=2017.4.17 in /usr/local/lib/python3.10/dist-packages (from requests->pykrx) (2024.8.30)\n",
            "Requirement already satisfied: six>=1.5 in /usr/local/lib/python3.10/dist-packages (from python-dateutil>=2.7->matplotlib->pykrx) (1.16.0)\n",
            "Requirement already satisfied: setuptools in /usr/local/lib/python3.10/dist-packages (from zope.interface->datetime->pykrx) (75.1.0)\n",
            "Downloading pykrx-1.0.48-py3-none-any.whl (2.2 MB)\n",
            "\u001b[2K   \u001b[90m━━━━━━━━━━━━━━━━━━━━━━━━━━━━━━━━━━━━━━━━\u001b[0m \u001b[32m2.2/2.2 MB\u001b[0m \u001b[31m37.3 MB/s\u001b[0m eta \u001b[36m0:00:00\u001b[0m\n",
            "\u001b[?25hDownloading DateTime-5.5-py3-none-any.whl (52 kB)\n",
            "\u001b[2K   \u001b[90m━━━━━━━━━━━━━━━━━━━━━━━━━━━━━━━━━━━━━━━━\u001b[0m \u001b[32m52.6/52.6 kB\u001b[0m \u001b[31m4.1 MB/s\u001b[0m eta \u001b[36m0:00:00\u001b[0m\n",
            "\u001b[?25hDownloading zope.interface-7.1.1-cp310-cp310-manylinux_2_5_x86_64.manylinux1_x86_64.manylinux_2_17_x86_64.manylinux2014_x86_64.whl (254 kB)\n",
            "\u001b[2K   \u001b[90m━━━━━━━━━━━━━━━━━━━━━━━━━━━━━━━━━━━━━━━━\u001b[0m \u001b[32m254.2/254.2 kB\u001b[0m \u001b[31m15.3 MB/s\u001b[0m eta \u001b[36m0:00:00\u001b[0m\n",
            "\u001b[?25hInstalling collected packages: zope.interface, datetime, pykrx\n",
            "Successfully installed datetime-5.5 pykrx-1.0.48 zope.interface-7.1.1\n"
          ]
        }
      ]
    },
    {
      "cell_type": "code",
      "source": [
        "from pykrx import stock"
      ],
      "metadata": {
        "id": "JBU_jF2A95PQ"
      },
      "execution_count": 17,
      "outputs": []
    },
    {
      "cell_type": "code",
      "source": [
        "# 시작일과 종료일 설정\n",
        "start_date = \"2023-01-01\"\n",
        "end_date = \"2023-12-31\"\n",
        "\n",
        "# 코스피 지수 데이터를 가져와 데이터프레임으로 저장\n",
        "kospi_index = stock.get_index_ohlcv_by_date(start_date, end_date, \"1001\")[['종가']].dropna()"
      ],
      "metadata": {
        "id": "0ltnkAHB95NA"
      },
      "execution_count": 18,
      "outputs": []
    },
    {
      "cell_type": "code",
      "source": [
        "kospi_index.index = money_2023_df.index\n",
        "money_2023_df['KOSPI종가'] = kospi_index"
      ],
      "metadata": {
        "id": "Sau4-Bam95IQ"
      },
      "execution_count": 19,
      "outputs": []
    },
    {
      "cell_type": "code",
      "source": [
        "def setMoneyRatio(df, newName, whatCol):\n",
        "    df[whatCol] = pd.to_numeric(df[whatCol], errors='coerce').fillna(0)\n",
        "    for i in range(1, len(df)):\n",
        "        df.loc[i, newName] = calculate_ratio(df.loc[i, whatCol]- df.loc[i - 1, whatCol], df.loc[i - 1, whatCol])"
      ],
      "metadata": {
        "id": "DQGH8VDs95CQ"
      },
      "execution_count": 20,
      "outputs": []
    },
    {
      "cell_type": "code",
      "source": [
        "setMoneyRatio(money_2023_df, 'KOSPI지수월간수익률', 'KOSPI종가')\n",
        "setMoneyRatio(money_2023_df, '월간수익률', '종가')"
      ],
      "metadata": {
        "id": "DHxCZyIC95AB"
      },
      "execution_count": 21,
      "outputs": []
    },
    {
      "cell_type": "code",
      "source": [
        "# 공분산\n",
        "covariance = money_2023_df['월간수익률'].cov(money_2023_df['KOSPI지수월간수익률'])\n",
        "\n",
        "# 분산\n",
        "variance = np.var(money_2023_df['KOSPI지수월간수익률'])\n",
        "\n",
        "# 베타\n",
        "beta = covariance / variance\n",
        "\n",
        "print(\"베타:\", beta)"
      ],
      "metadata": {
        "colab": {
          "base_uri": "https://localhost:8080/"
        },
        "id": "ly7yHZQr-3_B",
        "outputId": "948ce531-9632-4aea-b61b-44d6a63bd8c6"
      },
      "execution_count": 23,
      "outputs": [
        {
          "output_type": "stream",
          "name": "stdout",
          "text": [
            "베타: 0.7703685116604451\n"
          ]
        }
      ]
    },
    {
      "cell_type": "code",
      "source": [],
      "metadata": {
        "id": "bQVSzZF-UwcQ"
      },
      "execution_count": null,
      "outputs": []
    }
  ]
}
