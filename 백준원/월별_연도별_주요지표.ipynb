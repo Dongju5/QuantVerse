{
  "nbformat": 4,
  "nbformat_minor": 0,
  "metadata": {
    "colab": {
      "provenance": [],
      "collapsed_sections": [
        "MhgJloOxea_8"
      ]
    },
    "kernelspec": {
      "name": "python3",
      "display_name": "Python 3"
    },
    "language_info": {
      "name": "python"
    }
  },
  "cells": [
    {
      "cell_type": "code",
      "source": [
        "pip install pykrx"
      ],
      "metadata": {
        "colab": {
          "base_uri": "https://localhost:8080/"
        },
        "id": "puC6RjY395RJ",
        "outputId": "9667d880-5f47-462f-9013-7dd6a190c270"
      },
      "execution_count": 17,
      "outputs": [
        {
          "output_type": "stream",
          "name": "stdout",
          "text": [
            "Collecting pykrx\n",
            "  Downloading pykrx-1.0.48-py3-none-any.whl.metadata (60 kB)\n",
            "\u001b[?25l     \u001b[90m━━━━━━━━━━━━━━━━━━━━━━━━━━━━━━━━━━━━━━━━\u001b[0m \u001b[32m0.0/60.9 kB\u001b[0m \u001b[31m?\u001b[0m eta \u001b[36m-:--:--\u001b[0m\r\u001b[2K     \u001b[90m━━━━━━━━━━━━━━━━━━━━━━━━━━━━━━━━━━━━━━━━\u001b[0m \u001b[32m60.9/60.9 kB\u001b[0m \u001b[31m3.5 MB/s\u001b[0m eta \u001b[36m0:00:00\u001b[0m\n",
            "\u001b[?25hRequirement already satisfied: requests in /usr/local/lib/python3.10/dist-packages (from pykrx) (2.32.3)\n",
            "Requirement already satisfied: pandas in /usr/local/lib/python3.10/dist-packages (from pykrx) (2.2.2)\n",
            "Collecting datetime (from pykrx)\n",
            "  Downloading DateTime-5.5-py3-none-any.whl.metadata (33 kB)\n",
            "Requirement already satisfied: numpy in /usr/local/lib/python3.10/dist-packages (from pykrx) (1.26.4)\n",
            "Requirement already satisfied: xlrd in /usr/local/lib/python3.10/dist-packages (from pykrx) (2.0.1)\n",
            "Requirement already satisfied: deprecated in /usr/local/lib/python3.10/dist-packages (from pykrx) (1.2.14)\n",
            "Requirement already satisfied: multipledispatch in /usr/local/lib/python3.10/dist-packages (from pykrx) (1.0.0)\n",
            "Requirement already satisfied: matplotlib in /usr/local/lib/python3.10/dist-packages (from pykrx) (3.8.0)\n",
            "Collecting zope.interface (from datetime->pykrx)\n",
            "  Downloading zope.interface-7.1.1-cp310-cp310-manylinux_2_5_x86_64.manylinux1_x86_64.manylinux_2_17_x86_64.manylinux2014_x86_64.whl.metadata (44 kB)\n",
            "\u001b[2K     \u001b[90m━━━━━━━━━━━━━━━━━━━━━━━━━━━━━━━━━━━━━━━━\u001b[0m \u001b[32m44.1/44.1 kB\u001b[0m \u001b[31m2.7 MB/s\u001b[0m eta \u001b[36m0:00:00\u001b[0m\n",
            "\u001b[?25hRequirement already satisfied: pytz in /usr/local/lib/python3.10/dist-packages (from datetime->pykrx) (2024.2)\n",
            "Requirement already satisfied: wrapt<2,>=1.10 in /usr/local/lib/python3.10/dist-packages (from deprecated->pykrx) (1.16.0)\n",
            "Requirement already satisfied: contourpy>=1.0.1 in /usr/local/lib/python3.10/dist-packages (from matplotlib->pykrx) (1.3.0)\n",
            "Requirement already satisfied: cycler>=0.10 in /usr/local/lib/python3.10/dist-packages (from matplotlib->pykrx) (0.12.1)\n",
            "Requirement already satisfied: fonttools>=4.22.0 in /usr/local/lib/python3.10/dist-packages (from matplotlib->pykrx) (4.54.1)\n",
            "Requirement already satisfied: kiwisolver>=1.0.1 in /usr/local/lib/python3.10/dist-packages (from matplotlib->pykrx) (1.4.7)\n",
            "Requirement already satisfied: packaging>=20.0 in /usr/local/lib/python3.10/dist-packages (from matplotlib->pykrx) (24.2)\n",
            "Requirement already satisfied: pillow>=6.2.0 in /usr/local/lib/python3.10/dist-packages (from matplotlib->pykrx) (11.0.0)\n",
            "Requirement already satisfied: pyparsing>=2.3.1 in /usr/local/lib/python3.10/dist-packages (from matplotlib->pykrx) (3.2.0)\n",
            "Requirement already satisfied: python-dateutil>=2.7 in /usr/local/lib/python3.10/dist-packages (from matplotlib->pykrx) (2.8.2)\n",
            "Requirement already satisfied: tzdata>=2022.7 in /usr/local/lib/python3.10/dist-packages (from pandas->pykrx) (2024.2)\n",
            "Requirement already satisfied: charset-normalizer<4,>=2 in /usr/local/lib/python3.10/dist-packages (from requests->pykrx) (3.4.0)\n",
            "Requirement already satisfied: idna<4,>=2.5 in /usr/local/lib/python3.10/dist-packages (from requests->pykrx) (3.10)\n",
            "Requirement already satisfied: urllib3<3,>=1.21.1 in /usr/local/lib/python3.10/dist-packages (from requests->pykrx) (2.2.3)\n",
            "Requirement already satisfied: certifi>=2017.4.17 in /usr/local/lib/python3.10/dist-packages (from requests->pykrx) (2024.8.30)\n",
            "Requirement already satisfied: six>=1.5 in /usr/local/lib/python3.10/dist-packages (from python-dateutil>=2.7->matplotlib->pykrx) (1.16.0)\n",
            "Requirement already satisfied: setuptools in /usr/local/lib/python3.10/dist-packages (from zope.interface->datetime->pykrx) (75.1.0)\n",
            "Downloading pykrx-1.0.48-py3-none-any.whl (2.2 MB)\n",
            "\u001b[2K   \u001b[90m━━━━━━━━━━━━━━━━━━━━━━━━━━━━━━━━━━━━━━━━\u001b[0m \u001b[32m2.2/2.2 MB\u001b[0m \u001b[31m33.6 MB/s\u001b[0m eta \u001b[36m0:00:00\u001b[0m\n",
            "\u001b[?25hDownloading DateTime-5.5-py3-none-any.whl (52 kB)\n",
            "\u001b[2K   \u001b[90m━━━━━━━━━━━━━━━━━━━━━━━━━━━━━━━━━━━━━━━━\u001b[0m \u001b[32m52.6/52.6 kB\u001b[0m \u001b[31m3.4 MB/s\u001b[0m eta \u001b[36m0:00:00\u001b[0m\n",
            "\u001b[?25hDownloading zope.interface-7.1.1-cp310-cp310-manylinux_2_5_x86_64.manylinux1_x86_64.manylinux_2_17_x86_64.manylinux2014_x86_64.whl (254 kB)\n",
            "\u001b[2K   \u001b[90m━━━━━━━━━━━━━━━━━━━━━━━━━━━━━━━━━━━━━━━━\u001b[0m \u001b[32m254.2/254.2 kB\u001b[0m \u001b[31m14.8 MB/s\u001b[0m eta \u001b[36m0:00:00\u001b[0m\n",
            "\u001b[?25hInstalling collected packages: zope.interface, datetime, pykrx\n",
            "Successfully installed datetime-5.5 pykrx-1.0.48 zope.interface-7.1.1\n"
          ]
        }
      ]
    },
    {
      "cell_type": "code",
      "source": [
        "from pykrx import stock"
      ],
      "metadata": {
        "id": "JBU_jF2A95PQ"
      },
      "execution_count": 18,
      "outputs": []
    },
    {
      "cell_type": "code",
      "source": [
        "# 시작일과 종료일 설정\n",
        "start_date = \"2018-01-01\"\n",
        "end_date = \"2023-12-31\"\n",
        "\n",
        "# 코스피 지수 데이터를 가져와 데이터프레임으로 저장\n",
        "kospi_index = stock.get_index_ohlcv_by_date(start_date, end_date, \"1001\")[['종가']].dropna()"
      ],
      "metadata": {
        "id": "0ltnkAHB95NA"
      },
      "execution_count": 45,
      "outputs": []
    },
    {
      "cell_type": "code",
      "source": [
        "kospi_index.index = money_5year_df.index\n",
        "money_5year_df['KOSPI종가'] = kospi_index"
      ],
      "metadata": {
        "id": "Sau4-Bam95IQ"
      },
      "execution_count": 65,
      "outputs": []
    },
    {
      "cell_type": "code",
      "source": [
        "def setMoneyRatio(df, newName, whatCol):\n",
        "    df[whatCol] = pd.to_numeric(df[whatCol], errors='coerce').fillna(0)\n",
        "    for i in range(1, len(df)):\n",
        "        df.loc[i, newName] = calculate_ratio(df.loc[i, whatCol]- df.loc[i - 1, whatCol], df.loc[i - 1, whatCol])"
      ],
      "metadata": {
        "id": "DQGH8VDs95CQ"
      },
      "execution_count": 21,
      "outputs": []
    },
    {
      "cell_type": "code",
      "source": [
        "setMoneyRatio(money_5year_df, 'KOSPI지수월간수익률', 'KOSPI종가')\n",
        "setMoneyRatio(money_5year_df, '월간수익률', '종가')"
      ],
      "metadata": {
        "id": "DHxCZyIC95AB"
      },
      "execution_count": 66,
      "outputs": []
    },
    {
      "cell_type": "code",
      "source": [
        "def beta(df, target_date):\n",
        "    # 날짜 형식 변환 및 1년 전 날짜 설정\n",
        "    target_date = pd.to_datetime(target_date)\n",
        "    one_year_ago = target_date - timedelta(days=365)\n",
        "\n",
        "    # 기준일자 열을 datetime 형식으로 변환\n",
        "    df['기준일자'] = pd.to_datetime(df['기준일자'], errors='coerce')\n",
        "\n",
        "    # 1년 기간 필터링 및 인덱스 리셋\n",
        "    filtered_df = df[(df['기준일자'] >= one_year_ago) & (df['기준일자'] <= target_date)].copy()\n",
        "    filtered_df.reset_index(drop=True, inplace=True)\n",
        "\n",
        "    # 월간 수익률 계산\n",
        "    setMoneyRatio(filtered_df, 'KOSPI지수월간수익률', 'KOSPI종가')\n",
        "    setMoneyRatio(filtered_df, '월간수익률', '종가')\n",
        "\n",
        "    # 공분산과 분산 계산\n",
        "    covariance = filtered_df['월간수익률'].cov(filtered_df['KOSPI지수월간수익률'])\n",
        "    variance = np.var(filtered_df['KOSPI지수월간수익률'])\n",
        "\n",
        "    # 베타 계산\n",
        "    beta_value = covariance / variance\n",
        "    return beta_value"
      ],
      "metadata": {
        "id": "C7O73OwYYU3M"
      },
      "execution_count": 23,
      "outputs": []
    },
    {
      "cell_type": "code",
      "source": [
        "money_5year_df['베타'] = money_5year_df['기준일자'].apply(lambda x: beta(money_5year_df, x))"
      ],
      "metadata": {
        "colab": {
          "base_uri": "https://localhost:8080/"
        },
        "id": "HoQQUyDzYXBb",
        "outputId": "dcb66057-8a22-4835-dc42-bb4066d44265"
      },
      "execution_count": 67,
      "outputs": [
        {
          "output_type": "stream",
          "name": "stderr",
          "text": [
            "/usr/local/lib/python3.10/dist-packages/pandas/core/nanops.py:1675: RuntimeWarning: Degrees of freedom <= 0 for slice\n",
            "  return np.cov(a, b, ddof=ddof)[0, 1]\n",
            "/usr/local/lib/python3.10/dist-packages/numpy/lib/function_base.py:2748: RuntimeWarning: divide by zero encountered in divide\n",
            "  c *= np.true_divide(1, fact)\n",
            "/usr/local/lib/python3.10/dist-packages/numpy/lib/function_base.py:2748: RuntimeWarning: invalid value encountered in multiply\n",
            "  c *= np.true_divide(1, fact)\n"
          ]
        }
      ]
    },
    {
      "cell_type": "code",
      "source": [
        "# 이동평균선\n",
        "money_5year_df['MA5'] = money_5year_df['종가'].rolling(window=5).mean()\n",
        "money_5year_df['MA20'] = money_5year_df['종가'].rolling(window=20).mean()\n",
        "money_5year_df['MA60'] = money_5year_df['종가'].rolling(window=60).mean()"
      ],
      "metadata": {
        "id": "VLrkNsLY4RiT"
      },
      "execution_count": 68,
      "outputs": []
    },
    {
      "cell_type": "code",
      "source": [
        "# MACD\n",
        "# ex). DataFrame.ewm(self, com=None, span=None, halflife=None, alpha=None, min_periods=0, adjust=True, ignore_na=False, axis=0)\n",
        "\n",
        "money_5year_df['EMA12'] = money_5year_df['종가'].ewm(span=12, adjust=False).mean()\n",
        "money_5year_df['EMA26'] = money_5year_df['종가'].ewm(span=26, adjust=False).mean()\n",
        "\n",
        "money_5year_df['MACD'] = money_5year_df['EMA12'] - money_5year_df['EMA26']"
      ],
      "metadata": {
        "id": "2p-3MLR_4Wjb"
      },
      "execution_count": 69,
      "outputs": []
    },
    {
      "cell_type": "code",
      "source": [
        "# Signal 컬럼 및 데이터 추가\n",
        "money_5year_df['Signal'] = money_5year_df['MACD'].ewm(span=9, adjust=False).mean()\n",
        "money_5year_df['오실레이터'] = money_5year_df['MACD'] - money_5year_df['Signal']"
      ],
      "metadata": {
        "id": "bq3vBsKb4Wcc"
      },
      "execution_count": 70,
      "outputs": []
    },
    {
      "cell_type": "code",
      "source": [
        "# RSI\n",
        "\n",
        "# 가격변동계산\n",
        "money_5year_df['변동폭'] = money_5year_df['종가'].diff()\n",
        "\n",
        "# 이득과 손실 계산\n",
        "money_5year_df['이득'] = money_5year_df['변동폭'].apply(lambda x: x if x > 0 else 0)\n",
        "money_5year_df['손실'] = money_5year_df['변동폭'].apply(lambda x: -x if x < 0 else 0)\n",
        "\n",
        "# 2주 기준\n",
        "money_5year_df['평균 이득'] = money_5year_df['이득'].rolling(window=14).mean()\n",
        "money_5year_df['평균 손실'] = money_5year_df['손실'].rolling(window=14).mean()\n",
        "\n",
        "# RS\n",
        "money_5year_df['RS'] = money_5year_df['평균 이득'] / money_5year_df['평균 손실']\n",
        "\n",
        "# RSI\n",
        "money_5year_df['RSI'] = 100 - (100 / (1 + money_5year_df['RS']))"
      ],
      "metadata": {
        "id": "wEmgnzpB4Wap"
      },
      "execution_count": 71,
      "outputs": []
    },
    {
      "cell_type": "code",
      "source": [
        "# Bollinger Bands\n",
        "\n",
        "money_5year_df['하한선'] = money_5year_df['MA20'] - 2 * money_5year_df['종가'].rolling(window=20).std()\n",
        "money_5year_df['상한선'] = money_5year_df['MA20'] + 2 * money_5year_df['종가'].rolling(window=20).std()"
      ],
      "metadata": {
        "id": "EIO_TbMw4aok"
      },
      "execution_count": 72,
      "outputs": []
    },
    {
      "cell_type": "code",
      "source": [
        "# ATR\n",
        "tr1 = np.abs(money_5year_df[\"고가\"] - money_5year_df[\"저가\"])\n",
        "tr2 = np.abs(money_5year_df[\"고가\"] - money_5year_df[\"종가\"].shift(1))\n",
        "tr3 = np.abs(money_5year_df[\"저가\"] - money_5year_df[\"종가\"].shift(1))\n",
        "\n",
        "tr = pd.DataFrame([tr1,tr2,tr3]).T.max(axis = 1)\n",
        "money_5year_df[\"tr\"] = tr\n",
        "money_5year_df[\"atr\"] = tr.rolling(14).mean()"
      ],
      "metadata": {
        "id": "KO1e4GCpj39T"
      },
      "execution_count": 73,
      "outputs": []
    },
    {
      "cell_type": "code",
      "source": [
        "money_5year_df.info()"
      ],
      "metadata": {
        "colab": {
          "base_uri": "https://localhost:8080/"
        },
        "id": "RXLd4xoq4amo",
        "outputId": "d1f9898c-dd18-4e37-ef8e-1c873c64fae1"
      },
      "execution_count": 74,
      "outputs": [
        {
          "output_type": "stream",
          "name": "stdout",
          "text": [
            "<class 'pandas.core.frame.DataFrame'>\n",
            "RangeIndex: 1477 entries, 0 to 1476\n",
            "Data columns (total 46 columns):\n",
            " #   Column        Non-Null Count  Dtype         \n",
            "---  ------        --------------  -----         \n",
            " 0   기준일자          1477 non-null   datetime64[ns]\n",
            " 1   계열구분          1477 non-null   object        \n",
            " 2   지수명           1477 non-null   object        \n",
            " 3   종가            1477 non-null   float64       \n",
            " 4   대비            1477 non-null   object        \n",
            " 5   등락률           1477 non-null   object        \n",
            " 6   시가            1477 non-null   float64       \n",
            " 7   고가            1477 non-null   float64       \n",
            " 8   저가            1477 non-null   float64       \n",
            " 9   거래량           1477 non-null   float64       \n",
            " 10  거래대금          1477 non-null   float64       \n",
            " 11  상장시가총액        1477 non-null   object        \n",
            " 12  전날대비거래량비율     1476 non-null   float64       \n",
            " 13  전날대비거래대금비율    1476 non-null   float64       \n",
            " 14  전날대비시가비율      1476 non-null   float64       \n",
            " 15  전날대비고가비율      1476 non-null   float64       \n",
            " 16  전날대비저가비율      1476 non-null   float64       \n",
            " 17  전날대비종가비율      1476 non-null   float64       \n",
            " 18  다음날종가         1477 non-null   int64         \n",
            " 19  시가와고가차이       1477 non-null   float64       \n",
            " 20  시가와저가차이       1477 non-null   float64       \n",
            " 21  종가와고가차이       1477 non-null   float64       \n",
            " 22  종가와저가차이       1477 non-null   float64       \n",
            " 23  KOSPI종가       1477 non-null   float64       \n",
            " 24  KOSPI지수월간수익률  1476 non-null   float64       \n",
            " 25  월간수익률         1476 non-null   float64       \n",
            " 26  베타            1475 non-null   float64       \n",
            " 27  MA5           1473 non-null   float64       \n",
            " 28  MA20          1458 non-null   float64       \n",
            " 29  MA60          1418 non-null   float64       \n",
            " 30  EMA12         1477 non-null   float64       \n",
            " 31  EMA26         1477 non-null   float64       \n",
            " 32  MACD          1477 non-null   float64       \n",
            " 33  Signal        1477 non-null   float64       \n",
            " 34  오실레이터         1477 non-null   float64       \n",
            " 35  변동폭           1476 non-null   float64       \n",
            " 36  이득            1477 non-null   float64       \n",
            " 37  손실            1477 non-null   float64       \n",
            " 38  평균 이득         1464 non-null   float64       \n",
            " 39  평균 손실         1464 non-null   float64       \n",
            " 40  RS            1464 non-null   float64       \n",
            " 41  RSI           1464 non-null   float64       \n",
            " 42  하한선           1458 non-null   float64       \n",
            " 43  상한선           1458 non-null   float64       \n",
            " 44  tr            1477 non-null   float64       \n",
            " 45  atr           1464 non-null   float64       \n",
            "dtypes: datetime64[ns](1), float64(39), int64(1), object(5)\n",
            "memory usage: 530.9+ KB\n"
          ]
        }
      ]
    },
    {
      "cell_type": "code",
      "source": [
        "money_5year_df_copy = money_5year_df.copy()"
      ],
      "metadata": {
        "id": "fQKNxuc-0iRA"
      },
      "execution_count": 84,
      "outputs": []
    },
    {
      "cell_type": "code",
      "source": [
        "money_5year_df = money_5year_df_copy.copy()"
      ],
      "metadata": {
        "id": "Mb67rMKmOg39"
      },
      "execution_count": 82,
      "outputs": []
    },
    {
      "cell_type": "code",
      "source": [
        "# 2018년 데이터 삭제\n",
        "money_5year_df_copy = money_5year_df[money_5year_df['기준일자'].dt.year != 2018]\n",
        "money_5year_df = money_5year_df.reset_index(drop=True)"
      ],
      "metadata": {
        "id": "IWurnjZ6b-f8"
      },
      "execution_count": 85,
      "outputs": []
    },
    {
      "cell_type": "code",
      "source": [
        "money_5year_df.reset_index(drop=True, inplace=True)"
      ],
      "metadata": {
        "id": "jXLFMFq1trln"
      },
      "execution_count": 58,
      "outputs": []
    },
    {
      "cell_type": "code",
      "source": [
        "columns_to_drop = ['계열구분', '지수명', '종가', '대비', '등락률', '시가', '고가', '저가', '거래량', '거래대금', '상장시가총액']\n",
        "money_5year_df_copy.drop(columns=columns_to_drop, errors='ignore', inplace=True)"
      ],
      "metadata": {
        "id": "KWBMhes6PoxR"
      },
      "execution_count": 86,
      "outputs": []
    },
    {
      "cell_type": "code",
      "source": [
        "columns_to_drop = ['KOSPI지수월간수익률','월간수익률','EMA12','EMA26']\n",
        "money_5year_df_copy.drop(columns=columns_to_drop, errors='ignore', inplace=True)"
      ],
      "metadata": {
        "id": "hQ-Qe_OOd5KF"
      },
      "execution_count": 87,
      "outputs": []
    },
    {
      "cell_type": "code",
      "source": [
        "columns_to_drop = ['변동폭','이득','손실','평균 이득','평균 손실','tr']\n",
        "money_5year_df_copy.drop(columns=columns_to_drop, errors='ignore', inplace=True)"
      ],
      "metadata": {
        "id": "NSQ25Dp7Ow0t"
      },
      "execution_count": 89,
      "outputs": []
    },
    {
      "cell_type": "code",
      "source": [
        "money_5year_df_copy.info()"
      ],
      "metadata": {
        "colab": {
          "base_uri": "https://localhost:8080/"
        },
        "id": "HCbUBqk_T3c7",
        "outputId": "e69c73d4-f775-41c0-9208-ed4cbcc5989d"
      },
      "execution_count": 90,
      "outputs": [
        {
          "output_type": "stream",
          "name": "stdout",
          "text": [
            "<class 'pandas.core.frame.DataFrame'>\n",
            "Index: 1233 entries, 244 to 1476\n",
            "Data columns (total 25 columns):\n",
            " #   Column      Non-Null Count  Dtype         \n",
            "---  ------      --------------  -----         \n",
            " 0   기준일자        1233 non-null   datetime64[ns]\n",
            " 1   전날대비거래량비율   1233 non-null   float64       \n",
            " 2   전날대비거래대금비율  1233 non-null   float64       \n",
            " 3   전날대비시가비율    1233 non-null   float64       \n",
            " 4   전날대비고가비율    1233 non-null   float64       \n",
            " 5   전날대비저가비율    1233 non-null   float64       \n",
            " 6   전날대비종가비율    1233 non-null   float64       \n",
            " 7   다음날종가       1233 non-null   int64         \n",
            " 8   시가와고가차이     1233 non-null   float64       \n",
            " 9   시가와저가차이     1233 non-null   float64       \n",
            " 10  종가와고가차이     1233 non-null   float64       \n",
            " 11  종가와저가차이     1233 non-null   float64       \n",
            " 12  KOSPI종가     1233 non-null   float64       \n",
            " 13  베타          1233 non-null   float64       \n",
            " 14  MA5         1233 non-null   float64       \n",
            " 15  MA20        1233 non-null   float64       \n",
            " 16  MA60        1233 non-null   float64       \n",
            " 17  MACD        1233 non-null   float64       \n",
            " 18  Signal      1233 non-null   float64       \n",
            " 19  오실레이터       1233 non-null   float64       \n",
            " 20  RS          1233 non-null   float64       \n",
            " 21  RSI         1233 non-null   float64       \n",
            " 22  하한선         1233 non-null   float64       \n",
            " 23  상한선         1233 non-null   float64       \n",
            " 24  atr         1233 non-null   float64       \n",
            "dtypes: datetime64[ns](1), float64(23), int64(1)\n",
            "memory usage: 250.5 KB\n"
          ]
        }
      ]
    },
    {
      "cell_type": "code",
      "source": [
        "money_5year_df_copy.set_index('기준일자', inplace=True)"
      ],
      "metadata": {
        "id": "Y96DxcBltOe9"
      },
      "execution_count": 76,
      "outputs": []
    },
    {
      "cell_type": "code",
      "source": [],
      "metadata": {
        "id": "A0zjFuUnj9RA"
      },
      "execution_count": null,
      "outputs": []
    }
  ]
}
